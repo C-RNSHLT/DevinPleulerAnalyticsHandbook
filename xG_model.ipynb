{
 "cells": [
  {
   "cell_type": "markdown",
   "metadata": {},
   "source": [
    "# My xG model\n",
    "\n",
    "I want to create my own expected goal model. I will be trying different model out, test and evaluate them and see which one performs the best.\n",
    "\n",
    "The models I will build is:\n",
    "- LogisticRegression\n",
    "- Random Forest\n",
    "- Gradient boost\n",
    "\n",
    "Inspiration from Nick Wan (https://colab.research.google.com/drive/1ZtGuRWRMc1I_V7EJDllLVOtdot_ZOJlx?usp=sharing#scrollTo=cXk8uxmOXR61)"
   ]
  },
  {
   "cell_type": "markdown",
   "metadata": {},
   "source": [
    "### Data preperation"
   ]
  },
  {
   "cell_type": "code",
   "execution_count": 1,
   "metadata": {},
   "outputs": [],
   "source": [
    "#import libraries\n",
    "import requests\n",
    "import pandas as pd\n",
    "import numpy as np"
   ]
  },
  {
   "cell_type": "markdown",
   "metadata": {},
   "source": [
    "We will extract the data from StatsBomb open data"
   ]
  },
  {
   "cell_type": "code",
   "execution_count": 2,
   "metadata": {},
   "outputs": [],
   "source": [
    "#the urls we will extract the data from\n",
    "base_url = \"https://raw.githubusercontent.com/statsbomb/open-data/master/data/\"\n",
    "comp_url = base_url + \"matches/{}/{}.json\"\n",
    "match_url = base_url + \"events/{}.json\""
   ]
  },
  {
   "cell_type": "code",
   "execution_count": 3,
   "metadata": {},
   "outputs": [],
   "source": [
    "def parse_data(competition_id, season_id):\n",
    "    matches = requests.get(url=comp_url.format(competition_id, season_id)).json() #get all match data\n",
    "    match_ids = [match[\"match_id\"] for match in matches] #extract all match_ids from the match data\n",
    "    \n",
    "    all_events = []\n",
    "    for match_id in match_ids:\n",
    "        \n",
    "        events = requests.get(url=match_url.format(match_id)).json() #extract the events from the matches with the given match_id\n",
    "        \n",
    "        shots = [event for event in events if event[\"type\"][\"name\"] == \"Shot\"] #extract the shots from the event data\n",
    "        #we can now collect the features from the shots we find interesting\n",
    "        for shot in shots:\n",
    "            features = {\n",
    "                \"play_pattern\": shot[\"play_pattern\"][\"name\"],\n",
    "                \"head\": 1 if shot[\"shot\"][\"body_part\"][\"name\"] == \"Head\" else 0,\n",
    "                \"x\": shot[\"location\"][0],\n",
    "                \"y\": shot[\"location\"][1],\n",
    "                \"phase\": shot[\"shot\"][\"type\"][\"name\"], #from which phase the shot came from\n",
    "                \"outcome\": 1 if shot[\"shot\"][\"outcome\"][\"name\"] == \"Goal\" else 0,\n",
    "                \"statsbomb_xg\": shot[\"shot\"][\"statsbomb_xg\"]\n",
    "                \n",
    "            }\n",
    "        all_events.append(features)\n",
    "    \n",
    "    \n",
    "    return pd.DataFrame(all_events)"
   ]
  },
  {
   "cell_type": "code",
   "execution_count": 4,
   "metadata": {},
   "outputs": [],
   "source": [
    "competition_id = 37\n",
    "season_id = 4\n",
    "df = parse_data(competition_id, season_id)"
   ]
  },
  {
   "cell_type": "code",
   "execution_count": 5,
   "metadata": {},
   "outputs": [
    {
     "data": {
      "text/html": [
       "<div>\n",
       "<style scoped>\n",
       "    .dataframe tbody tr th:only-of-type {\n",
       "        vertical-align: middle;\n",
       "    }\n",
       "\n",
       "    .dataframe tbody tr th {\n",
       "        vertical-align: top;\n",
       "    }\n",
       "\n",
       "    .dataframe thead th {\n",
       "        text-align: right;\n",
       "    }\n",
       "</style>\n",
       "<table border=\"1\" class=\"dataframe\">\n",
       "  <thead>\n",
       "    <tr style=\"text-align: right;\">\n",
       "      <th></th>\n",
       "      <th>play_pattern</th>\n",
       "      <th>head</th>\n",
       "      <th>x</th>\n",
       "      <th>y</th>\n",
       "      <th>phase</th>\n",
       "      <th>outcome</th>\n",
       "      <th>statsbomb_xg</th>\n",
       "    </tr>\n",
       "  </thead>\n",
       "  <tbody>\n",
       "    <tr>\n",
       "      <th>0</th>\n",
       "      <td>Regular Play</td>\n",
       "      <td>0</td>\n",
       "      <td>104.0</td>\n",
       "      <td>37.0</td>\n",
       "      <td>Open Play</td>\n",
       "      <td>0</td>\n",
       "      <td>0.068793</td>\n",
       "    </tr>\n",
       "    <tr>\n",
       "      <th>1</th>\n",
       "      <td>From Corner</td>\n",
       "      <td>1</td>\n",
       "      <td>114.0</td>\n",
       "      <td>44.0</td>\n",
       "      <td>Open Play</td>\n",
       "      <td>0</td>\n",
       "      <td>0.032231</td>\n",
       "    </tr>\n",
       "    <tr>\n",
       "      <th>2</th>\n",
       "      <td>From Goal Kick</td>\n",
       "      <td>1</td>\n",
       "      <td>111.0</td>\n",
       "      <td>44.0</td>\n",
       "      <td>Open Play</td>\n",
       "      <td>0</td>\n",
       "      <td>0.095063</td>\n",
       "    </tr>\n",
       "    <tr>\n",
       "      <th>3</th>\n",
       "      <td>From Throw In</td>\n",
       "      <td>0</td>\n",
       "      <td>113.0</td>\n",
       "      <td>46.0</td>\n",
       "      <td>Open Play</td>\n",
       "      <td>1</td>\n",
       "      <td>0.635004</td>\n",
       "    </tr>\n",
       "    <tr>\n",
       "      <th>4</th>\n",
       "      <td>From Throw In</td>\n",
       "      <td>0</td>\n",
       "      <td>97.0</td>\n",
       "      <td>30.0</td>\n",
       "      <td>Open Play</td>\n",
       "      <td>0</td>\n",
       "      <td>0.016997</td>\n",
       "    </tr>\n",
       "  </tbody>\n",
       "</table>\n",
       "</div>"
      ],
      "text/plain": [
       "     play_pattern  head      x     y      phase  outcome  statsbomb_xg\n",
       "0    Regular Play     0  104.0  37.0  Open Play        0      0.068793\n",
       "1     From Corner     1  114.0  44.0  Open Play        0      0.032231\n",
       "2  From Goal Kick     1  111.0  44.0  Open Play        0      0.095063\n",
       "3   From Throw In     0  113.0  46.0  Open Play        1      0.635004\n",
       "4   From Throw In     0   97.0  30.0  Open Play        0      0.016997"
      ]
     },
     "execution_count": 5,
     "metadata": {},
     "output_type": "execute_result"
    }
   ],
   "source": [
    "df.head()"
   ]
  },
  {
   "cell_type": "markdown",
   "metadata": {},
   "source": [
    "We can now do some calculations on the data to calculate `distance_to_goal` and `goal_angle`, which are two very good predictors for if the shot will result in a goal. "
   ]
  },
  {
   "cell_type": "code",
   "execution_count": 6,
   "metadata": {},
   "outputs": [],
   "source": [
    "#function that calculates the distance to the center of the goal\n",
    "def distance_to_goal(origin):\n",
    "    dest = np.array([120., 40.])\n",
    "    return np.sqrt(np.sum((origin - dest) ** 2))"
   ]
  },
  {
   "cell_type": "code",
   "execution_count": 7,
   "metadata": {},
   "outputs": [],
   "source": [
    "#function that calculates the angle within the shot is taken\n",
    "def goal_angle(origin):\n",
    "    p0 = np.array((120., 36.))  # Left Post\n",
    "    p1 = np.array(origin, dtype=np.float)\n",
    "    p2 = np.array((120., 44.))  # Right Post\n",
    "\n",
    "    v0 = p0 - p1\n",
    "    v1 = p2 - p1\n",
    "\n",
    "    angle = np.abs(np.math.atan2(np.linalg.det([v0, v1]), np.dot(v0, v1)))\n",
    "    \n",
    "    return angle"
   ]
  },
  {
   "cell_type": "markdown",
   "metadata": {},
   "source": [
    "We will now add these columns to our dataframe.\n",
    "\n",
    "We will use the technique `broadcasting`, which is efficient in large datasets. (https://stackoverflow.com/questions/29954263/what-does-the-term-broadcasting-mean-in-pandas-documentation)\n",
    "\n",
    "We are also using the `lambda` to avoid loopig through our pandas df."
   ]
  },
  {
   "cell_type": "code",
   "execution_count": 8,
   "metadata": {},
   "outputs": [],
   "source": [
    "df['distance_to_goal'] = df.apply(lambda row: distance_to_goal(row[['x', 'y']]), axis=1)\n",
    "df['goal_angle'] = df.apply(lambda r: goal_angle(r[['x', 'y']]), axis=1)"
   ]
  },
  {
   "cell_type": "code",
   "execution_count": 9,
   "metadata": {},
   "outputs": [
    {
     "data": {
      "text/html": [
       "<div>\n",
       "<style scoped>\n",
       "    .dataframe tbody tr th:only-of-type {\n",
       "        vertical-align: middle;\n",
       "    }\n",
       "\n",
       "    .dataframe tbody tr th {\n",
       "        vertical-align: top;\n",
       "    }\n",
       "\n",
       "    .dataframe thead th {\n",
       "        text-align: right;\n",
       "    }\n",
       "</style>\n",
       "<table border=\"1\" class=\"dataframe\">\n",
       "  <thead>\n",
       "    <tr style=\"text-align: right;\">\n",
       "      <th></th>\n",
       "      <th>play_pattern</th>\n",
       "      <th>head</th>\n",
       "      <th>x</th>\n",
       "      <th>y</th>\n",
       "      <th>phase</th>\n",
       "      <th>outcome</th>\n",
       "      <th>statsbomb_xg</th>\n",
       "      <th>distance_to_goal</th>\n",
       "      <th>goal_angle</th>\n",
       "    </tr>\n",
       "  </thead>\n",
       "  <tbody>\n",
       "    <tr>\n",
       "      <th>0</th>\n",
       "      <td>Regular Play</td>\n",
       "      <td>0</td>\n",
       "      <td>104.0</td>\n",
       "      <td>37.0</td>\n",
       "      <td>Open Play</td>\n",
       "      <td>0</td>\n",
       "      <td>0.068793</td>\n",
       "      <td>16.278821</td>\n",
       "      <td>0.474829</td>\n",
       "    </tr>\n",
       "    <tr>\n",
       "      <th>1</th>\n",
       "      <td>From Corner</td>\n",
       "      <td>1</td>\n",
       "      <td>114.0</td>\n",
       "      <td>44.0</td>\n",
       "      <td>Open Play</td>\n",
       "      <td>0</td>\n",
       "      <td>0.032231</td>\n",
       "      <td>7.211103</td>\n",
       "      <td>0.927295</td>\n",
       "    </tr>\n",
       "    <tr>\n",
       "      <th>2</th>\n",
       "      <td>From Goal Kick</td>\n",
       "      <td>1</td>\n",
       "      <td>111.0</td>\n",
       "      <td>44.0</td>\n",
       "      <td>Open Play</td>\n",
       "      <td>0</td>\n",
       "      <td>0.095063</td>\n",
       "      <td>9.848858</td>\n",
       "      <td>0.726642</td>\n",
       "    </tr>\n",
       "    <tr>\n",
       "      <th>3</th>\n",
       "      <td>From Throw In</td>\n",
       "      <td>0</td>\n",
       "      <td>113.0</td>\n",
       "      <td>46.0</td>\n",
       "      <td>Open Play</td>\n",
       "      <td>1</td>\n",
       "      <td>0.635004</td>\n",
       "      <td>9.219544</td>\n",
       "      <td>0.681771</td>\n",
       "    </tr>\n",
       "    <tr>\n",
       "      <th>4</th>\n",
       "      <td>From Throw In</td>\n",
       "      <td>0</td>\n",
       "      <td>97.0</td>\n",
       "      <td>30.0</td>\n",
       "      <td>Open Play</td>\n",
       "      <td>0</td>\n",
       "      <td>0.016997</td>\n",
       "      <td>25.079872</td>\n",
       "      <td>0.291606</td>\n",
       "    </tr>\n",
       "  </tbody>\n",
       "</table>\n",
       "</div>"
      ],
      "text/plain": [
       "     play_pattern  head      x     y      phase  outcome  statsbomb_xg  \\\n",
       "0    Regular Play     0  104.0  37.0  Open Play        0      0.068793   \n",
       "1     From Corner     1  114.0  44.0  Open Play        0      0.032231   \n",
       "2  From Goal Kick     1  111.0  44.0  Open Play        0      0.095063   \n",
       "3   From Throw In     0  113.0  46.0  Open Play        1      0.635004   \n",
       "4   From Throw In     0   97.0  30.0  Open Play        0      0.016997   \n",
       "\n",
       "   distance_to_goal  goal_angle  \n",
       "0         16.278821    0.474829  \n",
       "1          7.211103    0.927295  \n",
       "2          9.848858    0.726642  \n",
       "3          9.219544    0.681771  \n",
       "4         25.079872    0.291606  "
      ]
     },
     "execution_count": 9,
     "metadata": {},
     "output_type": "execute_result"
    }
   ],
   "source": [
    "df.head()"
   ]
  },
  {
   "cell_type": "markdown",
   "metadata": {},
   "source": [
    "# Training, testing and evaluating our model\n",
    "Our data is now ready and we will start build our model, test and evaluate it's performance."
   ]
  },
  {
   "cell_type": "code",
   "execution_count": 12,
   "metadata": {},
   "outputs": [],
   "source": [
    "from sklearn.linear_model import LogisticRegression\n",
    "from sklearn.ensemble import RandomForestClassifier, GradientBoostingClassifier"
   ]
  },
  {
   "cell_type": "code",
   "execution_count": null,
   "metadata": {},
   "outputs": [],
   "source": []
  }
 ],
 "metadata": {
  "kernelspec": {
   "display_name": "Python 3",
   "language": "python",
   "name": "python3"
  },
  "language_info": {
   "codemirror_mode": {
    "name": "ipython",
    "version": 3
   },
   "file_extension": ".py",
   "mimetype": "text/x-python",
   "name": "python",
   "nbconvert_exporter": "python",
   "pygments_lexer": "ipython3",
   "version": "3.7.8"
  }
 },
 "nbformat": 4,
 "nbformat_minor": 4
}
