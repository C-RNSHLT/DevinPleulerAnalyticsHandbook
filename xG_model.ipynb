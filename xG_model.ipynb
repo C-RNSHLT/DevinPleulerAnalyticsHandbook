{
 "cells": [
  {
   "cell_type": "markdown",
   "metadata": {},
   "source": [
    "# Expected Goals - Hvordan bliver en xG model lavet?\n",
    "\n",
    "`Expected Goals (xG)` har i de seneste år været en meget omdiskuteret del af fodbold analyse, og er efterhånden blevet noget alle fodboldfans kender. Men xG er, som mange andre elementer i maskin læring, en \"black boks\". \n",
    "Hvordan kan to forskellige udbydere af xG f.eks. have henholdsvis 0.8 xG og 1.27 xG? (https://twitter.com/tapinfodbold/status/1280186019309072384)\n",
    "\n",
    "Jeg vil der i denne artikel vise hvordan en basal xG model bliver lavet for, at give en bedre forståelse for de mange fodboldfans. Jeg gør brug af programmeringssproget `Python`. Mange bruger også `R`, men hvilket sprog der er bedst er det meget debat om. Men i det store billede gør det ikke den store forskel."
   ]
  },
  {
   "cell_type": "markdown",
   "metadata": {},
   "source": [
    "### Forbedredelse af data og enviroment"
   ]
  },
  {
   "cell_type": "markdown",
   "metadata": {},
   "source": [
    "Først importerer vi de bibloteker (libraries), som vi skal gøre brug til at bygge vores model."
   ]
  },
  {
   "cell_type": "code",
   "execution_count": 64,
   "metadata": {},
   "outputs": [],
   "source": [
    "#importere bibloteker\n",
    "import requests #få data gennem URL, fra internettet\n",
    "import pandas as pd #bruges til at nemmere at manipulere, tilgå og opbevare vores data\n",
    "import numpy as np #bruges til matematiske beregninger/manipulationer på vores data.\n",
    "import matplotlib.pyplot as plt"
   ]
  },
  {
   "cell_type": "markdown",
   "metadata": {},
   "source": [
    "Jeg vil gøre brug at åben `event data` fra StatsBomb, og bruge skud fra VM 2018 til at træne vores model."
   ]
  },
  {
   "cell_type": "code",
   "execution_count": 10,
   "metadata": {},
   "outputs": [],
   "source": [
    "#URl's vi vil bruge til at få adgang til vores data\n",
    "base_url = \"https://raw.githubusercontent.com/statsbomb/open-data/master/data/\"\n",
    "comp_url = base_url + \"matches/{}/{}.json\"\n",
    "match_url = base_url + \"events/{}.json\""
   ]
  },
  {
   "cell_type": "markdown",
   "metadata": {},
   "source": [
    "`base_url` er den første hjemmeside hvor dataen ligger, `comp_url` er her hvor information om hver kamp ligger, såsom hvilke hold der spiller, hvilken dommer, kamp ID'et osv. `match_url` indeholder de begivenheder (events) som der skete i kampen herunder skud, afleveringer, hvis en spiller går i pres, osv.\n",
    "Herefter bliver {} udfyldt med funktionen `.format()` med det givne stævne ID og Sæson ID. VM 2018 har f.eks. stævne ID 43 og Sæson ID 3.\n",
    "\n"
   ]
  },
  {
   "cell_type": "code",
   "execution_count": 11,
   "metadata": {},
   "outputs": [],
   "source": [
    "#create our parse data function\n",
    "def parse_data(competition_id, season_id):\n",
    "    matches = requests.get(url = comp_url.format(competition_id, season_id)).json() #få alt kamp data fra den specifikke turnering\n",
    "    match_ids = [match[\"match_id\"] for match in matches] #tag alle kamp ID's fra hver kamp i turneringen\n",
    "    \n",
    "    #vi looper gennem listen med kamp ID's og få begivenhederne fra hver kamp\n",
    "    all_events = []\n",
    "    for match_id in match_ids:\n",
    "        \n",
    "        events = requests.get(url = match_url.format(match_id)).json() #udtrækker event data filen fra hver kamp ID\n",
    "        \n",
    "        shots = [x for x in events if x[\"type\"][\"name\"] == \"Shot\"] #udtræk skud fra event dataen\n",
    "        \n",
    "        #vi kan nu udtrække de attributer (features) fra skudene\n",
    "        for shot in shots:\n",
    "            attributes = {\n",
    "                \"x\": shot[\"location\"][0],\n",
    "                \"y\": shot[\"location\"][1],\n",
    "                \"head\": 1 if shot[\"shot\"][\"body_part\"][\"name\"] == \"Head\" else 0,\n",
    "                \"phase\": shot[\"shot\"][\"type\"][\"name\"],\n",
    "                \"outcome\": 1 if shot[\"shot\"][\"outcome\"][\"name\"] == \"Goal\" else 0,\n",
    "                \"statsbomb_xg\": shot[\"shot\"][\"statsbomb_xg\"]\n",
    "            }\n",
    "            all_events.append(attributes)\n",
    "        \n",
    "    return pd.DataFrame(all_events)"
   ]
  },
  {
   "cell_type": "markdown",
   "metadata": {},
   "source": [
    "Vi trækker først alt kamp dataen ud fra hver kamp i den specifikke turnering og sæson, hvilket i vores tilfælde er VM 2018 (43 og 3).\n",
    "\n",
    "Herefter gør vi brug af en _list comprehension_ som looper gennem kamp dataten og laver en liste med hver kamp ID fra alle kampene. Dette kamp ID skal bruges til at udtrække event dataen, som sker i næste skridt.\n",
    "\n",
    "Her klargør vi en tom liste som kan indeholde den event data i vores interesse, og så looper vi igennem kamp ID'erne og for hver kamp ID udtrækker vi event dataen som ligger i `match_url`.\n",
    "\n",
    "Det gør i stand til at trække alle skudene ud af event dataen. Vi looper derefter i gennem skudene og udvælger de bestemte egenskaber ved skudene, som vi mener har indflydelse på skudet resulterer i et mål. Det er i vores tilfælde:\n",
    "- `x, y koordinater`, som gør i stand til at udregne distance til mål og hvilken vinkel skudet har til målet.\n",
    "- `head`, hvilket er om skudet var et hovedstød (1) eller ikke (0).\n",
    "- `phase`, hvilet betegner om skudet kom efter et hjørnespark, frispark, åbent spil, osv.\n",
    "- `outcome` er skudets resultat. Endte skudet med mål (1) eller ikke med mål (0).\n",
    "- `statsbomb_xg`, hvilket er den xG som StatsBomb model har tilgivet skudet. Dette vil blive brugt til at sammenligne og evaluere vores model med en meget kompleks xG model.\n",
    "\n",
    "Disse egenskaber er nu lagt ind i vores `all_events` liste og derefter retuneret i en `PandasDatFrame` som gør at vi kan manipulere og arbejde bedre med vores data.\n",
    "\n",
    "-----------------------"
   ]
  },
  {
   "cell_type": "markdown",
   "metadata": {},
   "source": [
    "Vi kan nu udtrække dataen fram VM 2018, som turnering ID 43 og sæson 3. Herefter bruger vi vores `parse_data` funktion med disse to argumenter og dataen fra VM 2018 bliver gemt i en `Pandas Dataframe` i variablen `df`."
   ]
  },
  {
   "cell_type": "code",
   "execution_count": 12,
   "metadata": {},
   "outputs": [],
   "source": [
    "competition_id = 43\n",
    "season_id = 3\n",
    "df = parse_data(competition_id, season_id)"
   ]
  },
  {
   "cell_type": "code",
   "execution_count": 13,
   "metadata": {},
   "outputs": [
    {
     "data": {
      "text/plain": [
       "(1706, 6)"
      ]
     },
     "execution_count": 13,
     "metadata": {},
     "output_type": "execute_result"
    }
   ],
   "source": [
    "df.shape"
   ]
  },
  {
   "cell_type": "markdown",
   "metadata": {},
   "source": [
    "Dette er sådan vores de fem første rækker af vores data ser ud. Hvor vi har de forskellige features "
   ]
  },
  {
   "cell_type": "markdown",
   "metadata": {},
   "source": [
    "Vi kan nu udregne skudets distance til mål (`distance_to_goal`) og dets vinkel til mål (`goal_angle`), hvilket er to meget gode prædiktorer for om skudet ender med et mål. "
   ]
  },
  {
   "cell_type": "code",
   "execution_count": 14,
   "metadata": {},
   "outputs": [],
   "source": [
    "#funktion som udregner skudets distance til mål\n",
    "def distance_to_goal(origin):\n",
    "    dest = np.array([120., 40.])\n",
    "    return np.sqrt(np.sum((origin - dest) ** 2))"
   ]
  },
  {
   "cell_type": "code",
   "execution_count": 15,
   "metadata": {},
   "outputs": [],
   "source": [
    "#funktion som udregner skudets vinkel til mål\n",
    "def goal_angle(origin):\n",
    "    p0 = np.array((120., 36.))  # Left Post\n",
    "    p1 = np.array(origin, dtype=np.float)\n",
    "    p2 = np.array((120., 44.))  # Right Post\n",
    "\n",
    "    v0 = p0 - p1\n",
    "    v1 = p2 - p1\n",
    "\n",
    "    angle = np.abs(np.math.atan2(np.linalg.det([v0, v1]), np.dot(v0, v1)))\n",
    "    \n",
    "    return angle"
   ]
  },
  {
   "cell_type": "markdown",
   "metadata": {},
   "source": [
    "Disse beregninger er taget fra Devin Pleuler Soccer Analytics Handbook (https://github.com/devinpleuler/analytics-handbook).\n",
    "\n",
    "\n",
    "Vi kan nu lægge disse to beregninger til vores egenskaber ved skudet og lægge som en kolonne i vores dataframe.\n",
    "\n",
    "Vi bruger en teknik der hedder `broadcasting`, som er meget effektiv på store datasets. (https://stackoverflow.com/questions/29954263/what-does-the-term-broadcasting-mean-in-pandas-documentation)\n",
    "Samtidig gør vi brug af `lambda` funktion, hvilket gør at vi ikke skal definere en helt ny funktion."
   ]
  },
  {
   "cell_type": "code",
   "execution_count": 16,
   "metadata": {},
   "outputs": [],
   "source": [
    "df['distance_to_goal'] = df.apply(lambda row: distance_to_goal(row[['x', 'y']]), axis=1)\n",
    "df['goal_angle'] = df.apply(lambda r: goal_angle(r[['x', 'y']]), axis=1)"
   ]
  },
  {
   "cell_type": "markdown",
   "metadata": {},
   "source": [
    "Vi fjerner herefter alle skudene som kommer fra enten straffespark eller frispark. Vi fjerner dem da da vil skævvride vores data, da vi vil forudsige chancen for at score fra åbent spil."
   ]
  },
  {
   "cell_type": "code",
   "execution_count": 22,
   "metadata": {},
   "outputs": [
    {
     "data": {
      "text/plain": [
       "array(['Open Play'], dtype=object)"
      ]
     },
     "execution_count": 22,
     "metadata": {},
     "output_type": "execute_result"
    }
   ],
   "source": [
    "df_final = df[~df[\"phase\"].isin([\"Penalty\", \"Free Kick\"])]\n",
    "df_final[\"phase\"].unique()"
   ]
  },
  {
   "cell_type": "markdown",
   "metadata": {},
   "source": [
    "# Træning, test og evalution af vores model\n",
    "Vi har ny klargjort vores data, så vores model er klar til at blive trænet."
   ]
  },
  {
   "cell_type": "code",
   "execution_count": 23,
   "metadata": {},
   "outputs": [],
   "source": [
    "from sklearn.linear_model import LogisticRegression"
   ]
  },
  {
   "cell_type": "markdown",
   "metadata": {},
   "source": [
    "`Egenskaberne` (features) ved skudene som vores model skal trænes på er `distance_to_goal`, `goal_angle` og `head`, mens det vi vil fordudsige er `target`, altså mål (1) eller ikke mål (0)."
   ]
  },
  {
   "cell_type": "code",
   "execution_count": 24,
   "metadata": {},
   "outputs": [
    {
     "data": {
      "text/html": [
       "<div>\n",
       "<style scoped>\n",
       "    .dataframe tbody tr th:only-of-type {\n",
       "        vertical-align: middle;\n",
       "    }\n",
       "\n",
       "    .dataframe tbody tr th {\n",
       "        vertical-align: top;\n",
       "    }\n",
       "\n",
       "    .dataframe thead th {\n",
       "        text-align: right;\n",
       "    }\n",
       "</style>\n",
       "<table border=\"1\" class=\"dataframe\">\n",
       "  <thead>\n",
       "    <tr style=\"text-align: right;\">\n",
       "      <th></th>\n",
       "      <th>distance_to_goal</th>\n",
       "      <th>goal_angle</th>\n",
       "      <th>head</th>\n",
       "      <th>outcome</th>\n",
       "    </tr>\n",
       "  </thead>\n",
       "  <tbody>\n",
       "    <tr>\n",
       "      <th>0</th>\n",
       "      <td>7.810250</td>\n",
       "      <td>0.726642</td>\n",
       "      <td>0</td>\n",
       "      <td>1</td>\n",
       "    </tr>\n",
       "    <tr>\n",
       "      <th>1</th>\n",
       "      <td>8.944272</td>\n",
       "      <td>0.785398</td>\n",
       "      <td>0</td>\n",
       "      <td>1</td>\n",
       "    </tr>\n",
       "    <tr>\n",
       "      <th>3</th>\n",
       "      <td>23.345235</td>\n",
       "      <td>0.251639</td>\n",
       "      <td>0</td>\n",
       "      <td>0</td>\n",
       "    </tr>\n",
       "    <tr>\n",
       "      <th>4</th>\n",
       "      <td>24.186773</td>\n",
       "      <td>0.325437</td>\n",
       "      <td>0</td>\n",
       "      <td>0</td>\n",
       "    </tr>\n",
       "    <tr>\n",
       "      <th>5</th>\n",
       "      <td>13.453624</td>\n",
       "      <td>0.411456</td>\n",
       "      <td>0</td>\n",
       "      <td>0</td>\n",
       "    </tr>\n",
       "  </tbody>\n",
       "</table>\n",
       "</div>"
      ],
      "text/plain": [
       "   distance_to_goal  goal_angle  head  outcome\n",
       "0          7.810250    0.726642     0        1\n",
       "1          8.944272    0.785398     0        1\n",
       "3         23.345235    0.251639     0        0\n",
       "4         24.186773    0.325437     0        0\n",
       "5         13.453624    0.411456     0        0"
      ]
     },
     "execution_count": 24,
     "metadata": {},
     "output_type": "execute_result"
    }
   ],
   "source": [
    "model = LogisticRegression()\n",
    "features = [\"distance_to_goal\", \"goal_angle\", \"head\"]\n",
    "target = \"outcome\"\n",
    "df_final[features+[target]].head()"
   ]
  },
  {
   "cell_type": "markdown",
   "metadata": {},
   "source": [
    "Vi splitter nu vores dataset ind i et `test_set` og `train_set`, og sikrer os at dataen er spillet ordentligt."
   ]
  },
  {
   "cell_type": "code",
   "execution_count": 26,
   "metadata": {},
   "outputs": [
    {
     "name": "stdout",
     "output_type": "stream",
     "text": [
      "train: (1244, 4) \n",
      "test: (312, 4)\n"
     ]
    }
   ],
   "source": [
    "from sklearn.model_selection import train_test_split\n",
    "train_set, test_set = train_test_split(df_final[features+[target]], test_size=0.2)\n",
    "print(\"train:\", train.shape, \"\\ntest:\", test.shape)"
   ]
  },
  {
   "cell_type": "markdown",
   "metadata": {},
   "source": [
    "Vi __træner/fitter__ vores model på vores `train_set`."
   ]
  },
  {
   "cell_type": "code",
   "execution_count": 51,
   "metadata": {},
   "outputs": [],
   "source": [
    "fit = model.fit(train_set.loc[:, features],\n",
    "                train_set.loc[:, target])"
   ]
  },
  {
   "cell_type": "markdown",
   "metadata": {},
   "source": [
    "Vi kan nu få vores model til at lave en probibalistisk forudsigelse på om skudet mellem 0-1, med de givne egenskaber (features), vil resultere i et mål, altså en xG på skudet."
   ]
  },
  {
   "cell_type": "code",
   "execution_count": 52,
   "metadata": {},
   "outputs": [],
   "source": [
    "predictions = pd.DataFrame(model.predict_proba(test_set.loc[:, features]),\n",
    "                           index = test_set.index,\n",
    "                           columns=[0, f\"{target}_prob\"])"
   ]
  },
  {
   "cell_type": "markdown",
   "metadata": {},
   "source": [
    "- `ìndex` vi matcher vores index fra de index fra `test_set`, fordi ellers ville vores model forudsige de forkerte skud.\n",
    "- `columns` vi giver den anden kolonne et andet navn, fordi denne kolonne betegner vores model probibalistiske forudsigelse for at skudet ender med at mål, altså skudets xG. Den første kolonne er derimod den probibalistiske chance for at skudet __ikke__ ender med et mål."
   ]
  },
  {
   "cell_type": "markdown",
   "metadata": {},
   "source": [
    "Vi lægger nu vores forudsigelser til vores `test_set`, så vi hurtigt kan se hvad vores model forudsiger."
   ]
  },
  {
   "cell_type": "code",
   "execution_count": 55,
   "metadata": {},
   "outputs": [
    {
     "data": {
      "text/html": [
       "<div>\n",
       "<style scoped>\n",
       "    .dataframe tbody tr th:only-of-type {\n",
       "        vertical-align: middle;\n",
       "    }\n",
       "\n",
       "    .dataframe tbody tr th {\n",
       "        vertical-align: top;\n",
       "    }\n",
       "\n",
       "    .dataframe thead th {\n",
       "        text-align: right;\n",
       "    }\n",
       "</style>\n",
       "<table border=\"1\" class=\"dataframe\">\n",
       "  <thead>\n",
       "    <tr style=\"text-align: right;\">\n",
       "      <th></th>\n",
       "      <th>distance_to_goal</th>\n",
       "      <th>goal_angle</th>\n",
       "      <th>head</th>\n",
       "      <th>outcome</th>\n",
       "      <th>outcome_pred</th>\n",
       "    </tr>\n",
       "  </thead>\n",
       "  <tbody>\n",
       "    <tr>\n",
       "      <th>1577</th>\n",
       "      <td>17.029386</td>\n",
       "      <td>0.460724</td>\n",
       "      <td>0</td>\n",
       "      <td>0</td>\n",
       "      <td>0.080614</td>\n",
       "    </tr>\n",
       "    <tr>\n",
       "      <th>20</th>\n",
       "      <td>29.206164</td>\n",
       "      <td>0.216391</td>\n",
       "      <td>0</td>\n",
       "      <td>0</td>\n",
       "      <td>0.023051</td>\n",
       "    </tr>\n",
       "    <tr>\n",
       "      <th>1296</th>\n",
       "      <td>13.152946</td>\n",
       "      <td>0.585057</td>\n",
       "      <td>0</td>\n",
       "      <td>0</td>\n",
       "      <td>0.123898</td>\n",
       "    </tr>\n",
       "    <tr>\n",
       "      <th>657</th>\n",
       "      <td>10.000000</td>\n",
       "      <td>0.651077</td>\n",
       "      <td>1</td>\n",
       "      <td>0</td>\n",
       "      <td>0.089754</td>\n",
       "    </tr>\n",
       "    <tr>\n",
       "      <th>1231</th>\n",
       "      <td>24.413111</td>\n",
       "      <td>0.190756</td>\n",
       "      <td>0</td>\n",
       "      <td>0</td>\n",
       "      <td>0.032694</td>\n",
       "    </tr>\n",
       "  </tbody>\n",
       "</table>\n",
       "</div>"
      ],
      "text/plain": [
       "      distance_to_goal  goal_angle  head  outcome  outcome_pred\n",
       "1577         17.029386    0.460724     0        0      0.080614\n",
       "20           29.206164    0.216391     0        0      0.023051\n",
       "1296         13.152946    0.585057     0        0      0.123898\n",
       "657          10.000000    0.651077     1        0      0.089754\n",
       "1231         24.413111    0.190756     0        0      0.032694"
      ]
     },
     "execution_count": 55,
     "metadata": {},
     "output_type": "execute_result"
    }
   ],
   "source": [
    "test_set[f\"{target}_pred\"] = predictions[f\"{target}_prob\"]\n",
    "test_set.head()"
   ]
  },
  {
   "cell_type": "markdown",
   "metadata": {},
   "source": [
    "Som man kan se i første kolonne har et skud med foden, 17 meter til mål og en vinkel på 0.46 i følge vores model en xG på __0.08__, eller __8%__.\n",
    "\n",
    "Vi kan nu evaluere vores model og sammenligne den med StatsBomb komplekse xG model."
   ]
  },
  {
   "cell_type": "markdown",
   "metadata": {},
   "source": [
    "### Evaluaering og sammenligning"
   ]
  },
  {
   "cell_type": "markdown",
   "metadata": {},
   "source": [
    "Først bruger vi en meget intuativ måde at evaluere vores model, nemlig `præcisionen` af vores model."
   ]
  },
  {
   "cell_type": "code",
   "execution_count": 58,
   "metadata": {},
   "outputs": [
    {
     "data": {
      "text/plain": [
       "0.9166666666666666"
      ]
     },
     "execution_count": 58,
     "metadata": {},
     "output_type": "execute_result"
    }
   ],
   "source": [
    "from sklearn.metrics import accuracy_score\n",
    "accuracy_score(test_set[target], test_set[f\"{target}_pred\"].round(0))"
   ]
  },
  {
   "cell_type": "markdown",
   "metadata": {},
   "source": [
    "Vores model har en `præcision på 92%`, altså i 92% af test skudene forudsiger vores model at der var mål, da det faktisk var et mål og den forudsiger ikke mål, da der ikke var mål. Vores model er da sindssyg god!!\n",
    "\n",
    "Helt så nemt er det desværre ikke. For præcision er et meget analyse redskab ved xG, da langt de fleste skud ikke ender med et mål og hvis vores model derfor bare havde gættet på at skudet ikke ender med mål vil modellens præcision være på:"
   ]
  },
  {
   "cell_type": "code",
   "execution_count": 62,
   "metadata": {},
   "outputs": [
    {
     "data": {
      "text/plain": [
       "0.9198717948717948"
      ]
     },
     "execution_count": 62,
     "metadata": {},
     "output_type": "execute_result"
    }
   ],
   "source": [
    "accuracy_score(test_set[target], np.zeros(test_set[target].shape))"
   ]
  },
  {
   "cell_type": "markdown",
   "metadata": {},
   "source": [
    "Altså er vores model ikke særlig god...\n",
    "\n",
    "Men vi kan nu lave en simpel sammenligning med StatsBomb xG model:"
   ]
  },
  {
   "cell_type": "code",
   "execution_count": 66,
   "metadata": {},
   "outputs": [
    {
     "data": {
      "image/png": "[encoded data removed]",
      "text/plain": [
       "<Figure size 864x432 with 2 Axes>"
      ]
     },
     "metadata": {
      "needs_background": "light"
     },
     "output_type": "display_data"
    }
   ],
   "source": [
    "fig, (ax1, ax2) = plt.subplots(1, 2, figsize=(12,6))\n",
    "\n",
    "ax1.plot(sorted(predictions[f\"{target}_prob\"]))\n",
    "ax2.plot(sorted(df_final['statsbomb_xg'].sample(312)))\n",
    "\n",
    "ax1.set_title(\"Our model probabilities\")\n",
    "ax2.set_title(\"Statsbomb_xg probabilities\")\n",
    "plt.show()"
   ]
  },
  {
   "cell_type": "code",
   "execution_count": null,
   "metadata": {},
   "outputs": [],
   "source": []
  }
 ],
 "metadata": {
  "kernelspec": {
   "display_name": "Python 3",
   "language": "python",
   "name": "python3"
  },
  "language_info": {
   "codemirror_mode": {
    "name": "ipython",
    "version": 3
   },
   "file_extension": ".py",
   "mimetype": "text/x-python",
   "name": "python",
   "nbconvert_exporter": "python",
   "pygments_lexer": "ipython3",
   "version": "3.7.8"
  }
 },
 "nbformat": 4,
 "nbformat_minor": 4
}
