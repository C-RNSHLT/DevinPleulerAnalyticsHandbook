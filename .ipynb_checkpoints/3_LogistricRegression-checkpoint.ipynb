{
 "cells": [
  {
   "cell_type": "markdown",
   "metadata": {},
   "source": [
    "# 3. Logistic Regression\n",
    "Predicting the outcome of a shot given its features"
   ]
  },
  {
   "cell_type": "markdown",
   "metadata": {},
   "source": [
    "`Logistic regression` is used when the targeted outcome is classified into two outcomes. But as linear regression only predict 0 or 1, we can with logistic regression we get a probability between 0 and 1 which is useful for the probability of a goal."
   ]
  },
  {
   "cell_type": "markdown",
   "metadata": {},
   "source": [
    "### Prepare data and all things for predictions"
   ]
  },
  {
   "cell_type": "code",
   "execution_count": 1,
   "metadata": {},
   "outputs": [
    {
     "name": "stdout",
     "output_type": "stream",
     "text": [
      "The history saving thread hit an unexpected error (DatabaseError('database disk image is malformed')).History will not be written to the database.\n"
     ]
    }
   ],
   "source": [
    "#import libearies\n",
    "import requests\n",
    "import pandas as pd\n",
    "import numpy as np\n",
    "import matplotlib.pyplot as plt"
   ]
  },
  {
   "cell_type": "code",
   "execution_count": 2,
   "metadata": {},
   "outputs": [],
   "source": [
    "#the url´s where the data is stored\n",
    "base_url = \"https://raw.githubusercontent.com/statsbomb/open-data/master/data/\"\n",
    "comp_url = base_url + \"matches/{}/{}.json\"\n",
    "match_url = base_url + \"events/{}.json\""
   ]
  },
  {
   "cell_type": "code",
   "execution_count": 3,
   "metadata": {},
   "outputs": [],
   "source": [
    "#create our parse data function\n",
    "def parse_data(competition_id, season_id):\n",
    "    matches = requests.get(url = comp_url.format(competition_id, season_id)).json()\n",
    "    match_ids = [match[\"match_id\"] for match in matches]\n",
    "    \n",
    "    all_events = []\n",
    "    for match_id in match_ids:\n",
    "        \n",
    "        events = requests.get(url = match_url.format(match_id)).json()\n",
    "        \n",
    "        shots = [x for x in events if x[\"type\"][\"name\"] == \"Shot\"]\n",
    "        for shot in shots:\n",
    "            attributes = {\n",
    "                \"x\": shot[\"location\"][0],\n",
    "                \"y\": shot[\"location\"][1],\n",
    "                \"minute\": shot[\"minute\"],\n",
    "                \"head\": 1 if shot[\"shot\"][\"body_part\"][\"name\"] == \"Head\" else 0,\n",
    "                \"phase\": shot[\"shot\"][\"type\"][\"name\"],\n",
    "                \"outcome\": 1 if shot[\"shot\"][\"outcome\"][\"name\"] == \"Goal\" else 0,\n",
    "                \"statsbomb_xg\": shot[\"shot\"][\"statsbomb_xg\"]\n",
    "            }\n",
    "            all_events.append(attributes)\n",
    "        \n",
    "    return pd.DataFrame(all_events)"
   ]
  },
  {
   "cell_type": "markdown",
   "metadata": {},
   "source": [
    "This time we have added additional data to the `parse_data` function to give our model different features to work with and therefore create the best model.\n",
    "- x - the x-coordinate of the shot ranges from 0 to 120\n",
    "- y - the y-coordinate of the shot ranges from 0 to 80\n",
    "- minute - what minute the shot were taken\n",
    "- head - if the shot was attempted with the head\n",
    "- phase - what phase of play did the shot come from\n",
    "- outcome - did the shot result in a goal\n",
    "- statsbomb_xg - for comparison purposes at the end of the notebook\n",
    "\n",
    "**Note:** _We will not use the xG as a feature to our model because the xG is already a really prediction of the outcome of if the shot resulted in a goal._"
   ]
  },
  {
   "cell_type": "markdown",
   "metadata": {},
   "source": [
    "**Why these features**:\n",
    "- x and y\n",
    "- minute\n",
    "- head\n",
    "- phase\n",
    "- outcome\n",
    "- statsbomb_xg"
   ]
  },
  {
   "cell_type": "code",
   "execution_count": 4,
   "metadata": {},
   "outputs": [],
   "source": [
    "#load data from 2018 World Cup\n",
    "competition_id = 43\n",
    "season_id = 3\n",
    "df = parse_data(43, 3)"
   ]
  },
  {
   "cell_type": "code",
   "execution_count": 5,
   "metadata": {},
   "outputs": [
    {
     "data": {
      "text/html": [
       "<div>\n",
       "<style scoped>\n",
       "    .dataframe tbody tr th:only-of-type {\n",
       "        vertical-align: middle;\n",
       "    }\n",
       "\n",
       "    .dataframe tbody tr th {\n",
       "        vertical-align: top;\n",
       "    }\n",
       "\n",
       "    .dataframe thead th {\n",
       "        text-align: right;\n",
       "    }\n",
       "</style>\n",
       "<table border=\"1\" class=\"dataframe\">\n",
       "  <thead>\n",
       "    <tr style=\"text-align: right;\">\n",
       "      <th></th>\n",
       "      <th>x</th>\n",
       "      <th>y</th>\n",
       "      <th>minute</th>\n",
       "      <th>outcome</th>\n",
       "      <th>head</th>\n",
       "      <th>phase</th>\n",
       "      <th>statsbomb_xg</th>\n",
       "    </tr>\n",
       "  </thead>\n",
       "  <tbody>\n",
       "    <tr>\n",
       "      <th>0</th>\n",
       "      <td>115.0</td>\n",
       "      <td>34.0</td>\n",
       "      <td>0</td>\n",
       "      <td>1</td>\n",
       "      <td>0</td>\n",
       "      <td>Open Play</td>\n",
       "      <td>0.094462</td>\n",
       "    </tr>\n",
       "    <tr>\n",
       "      <th>1</th>\n",
       "      <td>112.0</td>\n",
       "      <td>36.0</td>\n",
       "      <td>3</td>\n",
       "      <td>1</td>\n",
       "      <td>0</td>\n",
       "      <td>Open Play</td>\n",
       "      <td>0.236519</td>\n",
       "    </tr>\n",
       "    <tr>\n",
       "      <th>2</th>\n",
       "      <td>101.0</td>\n",
       "      <td>55.0</td>\n",
       "      <td>11</td>\n",
       "      <td>0</td>\n",
       "      <td>0</td>\n",
       "      <td>Free Kick</td>\n",
       "      <td>0.053822</td>\n",
       "    </tr>\n",
       "    <tr>\n",
       "      <th>3</th>\n",
       "      <td>103.0</td>\n",
       "      <td>24.0</td>\n",
       "      <td>18</td>\n",
       "      <td>0</td>\n",
       "      <td>0</td>\n",
       "      <td>Open Play</td>\n",
       "      <td>0.029023</td>\n",
       "    </tr>\n",
       "    <tr>\n",
       "      <th>4</th>\n",
       "      <td>96.0</td>\n",
       "      <td>37.0</td>\n",
       "      <td>22</td>\n",
       "      <td>0</td>\n",
       "      <td>0</td>\n",
       "      <td>Open Play</td>\n",
       "      <td>0.041431</td>\n",
       "    </tr>\n",
       "  </tbody>\n",
       "</table>\n",
       "</div>"
      ],
      "text/plain": [
       "       x     y  minute  outcome  head      phase  statsbomb_xg\n",
       "0  115.0  34.0       0        1     0  Open Play      0.094462\n",
       "1  112.0  36.0       3        1     0  Open Play      0.236519\n",
       "2  101.0  55.0      11        0     0  Free Kick      0.053822\n",
       "3  103.0  24.0      18        0     0  Open Play      0.029023\n",
       "4   96.0  37.0      22        0     0  Open Play      0.041431"
      ]
     },
     "execution_count": 5,
     "metadata": {},
     "output_type": "execute_result"
    }
   ],
   "source": [
    "df.head()"
   ]
  },
  {
   "cell_type": "markdown",
   "metadata": {},
   "source": [
    "#### We can now create some measurements about the shots, which we believe are a good predictor if the shot results in a goal. \n",
    "More precise are these features of the shot `distance_to_goal` and `goal_angle`."
   ]
  },
  {
   "cell_type": "code",
   "execution_count": 6,
   "metadata": {},
   "outputs": [],
   "source": [
    "#function that calculates the distance to the center of the goal\n",
    "def distance_to_goal(origin):\n",
    "    dest = np.array([120., 40.])\n",
    "    return np.sqrt(np.sum((origin - dest) ** 2))"
   ]
  },
  {
   "cell_type": "code",
   "execution_count": 7,
   "metadata": {},
   "outputs": [],
   "source": [
    "#function that calculates the angle within the shot is taken\n",
    "def goal_angle(origin):\n",
    "    p0 = np.array((120., 36.))  # Left Post\n",
    "    p1 = np.array(origin, dtype=np.float)\n",
    "    p2 = np.array((120., 44.))  # Right Post\n",
    "\n",
    "    v0 = p0 - p1\n",
    "    v1 = p2 - p1\n",
    "\n",
    "    angle = np.abs(np.math.atan2(np.linalg.det([v0, v1]), np.dot(v0, v1)))\n",
    "    \n",
    "    return angle"
   ]
  },
  {
   "cell_type": "markdown",
   "metadata": {},
   "source": [
    "We will now add these columns to our dataframe.\n",
    "\n",
    "We will use the technique `broadcasting`, which is efficient in large datasets. (https://stackoverflow.com/questions/29954263/what-does-the-term-broadcasting-mean-in-pandas-documentation)\n",
    "\n",
    "We are also using the `lambda` to avoid loopig through our pandas df."
   ]
  },
  {
   "cell_type": "code",
   "execution_count": 8,
   "metadata": {},
   "outputs": [],
   "source": [
    "df['distance_to_goal'] = df.apply(lambda row: distance_to_goal(row[['x', 'y']]), axis=1)\n",
    "df['goal_angle'] = df.apply(lambda r: goal_angle(r[['x', 'y']]), axis=1)"
   ]
  },
  {
   "cell_type": "markdown",
   "metadata": {},
   "source": [
    "We now removes Free Kicks and Penalties from our dataframe/training set.\n",
    "\n",
    "This done because having Free Kicks and Penalties will skew our results, because most samples comes from Open Play."
   ]
  },
  {
   "cell_type": "code",
   "execution_count": 9,
   "metadata": {},
   "outputs": [],
   "source": [
    "shots = df[~df['phase'].isin(['Free Kick', 'Penalty'])]"
   ]
  },
  {
   "cell_type": "markdown",
   "metadata": {},
   "source": [
    "## Prediction and logistic regression"
   ]
  },
  {
   "cell_type": "code",
   "execution_count": 11,
   "metadata": {},
   "outputs": [],
   "source": [
    "#choose the features and what we want to predict\n",
    "features = ['distance_to_goal', 'goal_angle', 'head']\n",
    "target = 'outcome'"
   ]
  },
  {
   "cell_type": "markdown",
   "metadata": {},
   "source": [
    "The `features` of the model will be distance, angle and if the shot were headed. These features ww think are good features to predict if the shot will result in a goal.\n",
    "\n",
    "The `target` is what we want to predict. We want to predict if the shot results in a goal (1) or no goal (0)."
   ]
  },
  {
   "cell_type": "code",
   "execution_count": 13,
   "metadata": {},
   "outputs": [
    {
     "data": {
      "text/html": [
       "<div>\n",
       "<style scoped>\n",
       "    .dataframe tbody tr th:only-of-type {\n",
       "        vertical-align: middle;\n",
       "    }\n",
       "\n",
       "    .dataframe tbody tr th {\n",
       "        vertical-align: top;\n",
       "    }\n",
       "\n",
       "    .dataframe thead th {\n",
       "        text-align: right;\n",
       "    }\n",
       "</style>\n",
       "<table border=\"1\" class=\"dataframe\">\n",
       "  <thead>\n",
       "    <tr style=\"text-align: right;\">\n",
       "      <th></th>\n",
       "      <th>distance_to_goal</th>\n",
       "      <th>goal_angle</th>\n",
       "      <th>head</th>\n",
       "      <th>outcome</th>\n",
       "    </tr>\n",
       "  </thead>\n",
       "  <tbody>\n",
       "    <tr>\n",
       "      <th>0</th>\n",
       "      <td>7.810250</td>\n",
       "      <td>0.726642</td>\n",
       "      <td>0</td>\n",
       "      <td>1</td>\n",
       "    </tr>\n",
       "    <tr>\n",
       "      <th>1</th>\n",
       "      <td>8.944272</td>\n",
       "      <td>0.785398</td>\n",
       "      <td>0</td>\n",
       "      <td>1</td>\n",
       "    </tr>\n",
       "    <tr>\n",
       "      <th>3</th>\n",
       "      <td>23.345235</td>\n",
       "      <td>0.251639</td>\n",
       "      <td>0</td>\n",
       "      <td>0</td>\n",
       "    </tr>\n",
       "    <tr>\n",
       "      <th>4</th>\n",
       "      <td>24.186773</td>\n",
       "      <td>0.325437</td>\n",
       "      <td>0</td>\n",
       "      <td>0</td>\n",
       "    </tr>\n",
       "    <tr>\n",
       "      <th>5</th>\n",
       "      <td>13.453624</td>\n",
       "      <td>0.411456</td>\n",
       "      <td>0</td>\n",
       "      <td>0</td>\n",
       "    </tr>\n",
       "  </tbody>\n",
       "</table>\n",
       "</div>"
      ],
      "text/plain": [
       "   distance_to_goal  goal_angle  head  outcome\n",
       "0          7.810250    0.726642     0        1\n",
       "1          8.944272    0.785398     0        1\n",
       "3         23.345235    0.251639     0        0\n",
       "4         24.186773    0.325437     0        0\n",
       "5         13.453624    0.411456     0        0"
      ]
     },
     "execution_count": 13,
     "metadata": {},
     "output_type": "execute_result"
    }
   ],
   "source": [
    "shots[features+[target]].head()"
   ]
  },
  {
   "cell_type": "code",
   "execution_count": 14,
   "metadata": {},
   "outputs": [
    {
     "name": "stdout",
     "output_type": "stream",
     "text": [
      "train: (1245, 4)\n",
      "test: (311, 4)\n"
     ]
    }
   ],
   "source": [
    "#create train- and test set\n",
    "test_data = (shots.loc[:, features+[target]]\n",
    "             .sample(frac=.2))\n",
    "\n",
    "train_data = (shots.loc[~shots.index.isin(test_data.index.values), \n",
    "                        features+[target]]) \n",
    "\n",
    "print(f\"train: {train_data.shape}\\ntest: {test_data.shape}\") #print the dimension of our data, to see if done correctly"
   ]
  },
  {
   "cell_type": "markdown",
   "metadata": {},
   "source": [
    "In `test_data` we selects a sample of 20% of the shots with the features and target dimensions\n",
    "\n",
    "In `train_data` we selects the remaining instances from the shots\n",
    "This is done excluding the index values from the shots data, which appears in the `test_data`"
   ]
  },
  {
   "cell_type": "code",
   "execution_count": 15,
   "metadata": {},
   "outputs": [],
   "source": [
    "#import the logistic model initialize our model\n",
    "from sklearn.linear_model import LogisticRegression\n",
    "model = LogisticRegression()\n",
    "\n",
    "#train our model on the train_data\n",
    "fit = model.fit(train_data.loc[:, features], \n",
    "                train_data.loc[:, target])"
   ]
  },
  {
   "cell_type": "markdown",
   "metadata": {},
   "source": [
    "Firstly we import `LogisticRegression` to we can initialize a model.\n",
    "\n",
    "We can then train our model on the `train_data`."
   ]
  },
  {
   "cell_type": "code",
   "execution_count": 16,
   "metadata": {},
   "outputs": [],
   "source": [
    "#we can now make our prediction with the model we have just trained\n",
    "predictions = pd.DataFrame(model.predict_proba(test_data.loc[:, features]), \n",
    "                           index = test_data.index, \n",
    "                           columns=[0, f\"{target}_prob\"])"
   ]
  },
  {
   "cell_type": "code",
   "execution_count": 17,
   "metadata": {},
   "outputs": [
    {
     "data": {
      "text/html": [
       "<div>\n",
       "<style scoped>\n",
       "    .dataframe tbody tr th:only-of-type {\n",
       "        vertical-align: middle;\n",
       "    }\n",
       "\n",
       "    .dataframe tbody tr th {\n",
       "        vertical-align: top;\n",
       "    }\n",
       "\n",
       "    .dataframe thead th {\n",
       "        text-align: right;\n",
       "    }\n",
       "</style>\n",
       "<table border=\"1\" class=\"dataframe\">\n",
       "  <thead>\n",
       "    <tr style=\"text-align: right;\">\n",
       "      <th></th>\n",
       "      <th>0</th>\n",
       "      <th>outcome_prob</th>\n",
       "    </tr>\n",
       "  </thead>\n",
       "  <tbody>\n",
       "    <tr>\n",
       "      <th>627</th>\n",
       "      <td>0.941764</td>\n",
       "      <td>0.058236</td>\n",
       "    </tr>\n",
       "    <tr>\n",
       "      <th>838</th>\n",
       "      <td>0.861035</td>\n",
       "      <td>0.138965</td>\n",
       "    </tr>\n",
       "    <tr>\n",
       "      <th>979</th>\n",
       "      <td>0.957649</td>\n",
       "      <td>0.042351</td>\n",
       "    </tr>\n",
       "    <tr>\n",
       "      <th>141</th>\n",
       "      <td>0.832379</td>\n",
       "      <td>0.167621</td>\n",
       "    </tr>\n",
       "    <tr>\n",
       "      <th>1330</th>\n",
       "      <td>0.971564</td>\n",
       "      <td>0.028436</td>\n",
       "    </tr>\n",
       "  </tbody>\n",
       "</table>\n",
       "</div>"
      ],
      "text/plain": [
       "             0  outcome_prob\n",
       "627   0.941764      0.058236\n",
       "838   0.861035      0.138965\n",
       "979   0.957649      0.042351\n",
       "141   0.832379      0.167621\n",
       "1330  0.971564      0.028436"
      ]
     },
     "execution_count": 17,
     "metadata": {},
     "output_type": "execute_result"
    }
   ],
   "source": [
    "predictions.head()"
   ]
  },
  {
   "cell_type": "markdown",
   "metadata": {},
   "source": [
    "Above we make our model makes the predtictions on our `test_data`.\n",
    "\n",
    "- `model.predict_proba` function because we want to predict a probability of the shot resulting in a goal (i.e. xg).\n",
    "- `ìndex` we match the index to the indices from the `test_data`. This is done because otherwise our `predictions` wouldn't match the `test_data` and the predictions would look very wrong.\n",
    "- `columns` we rename the second column to _outcome_ \\_prob, because this column represents our model predicted goal probability of the shot."
   ]
  },
  {
   "cell_type": "code",
   "execution_count": 18,
   "metadata": {},
   "outputs": [],
   "source": [
    "#add predicted column to our `test_data`\n",
    "test_data[f\"{target}_pred\"] = predictions[f\"{target}_prob\"]"
   ]
  },
  {
   "cell_type": "markdown",
   "metadata": {},
   "source": [
    "Our models prediction is then added to the `test_data` so we can make a quick investigation of the precision of our models predictions."
   ]
  },
  {
   "cell_type": "code",
   "execution_count": 19,
   "metadata": {},
   "outputs": [
    {
     "data": {
      "text/html": [
       "<div>\n",
       "<style scoped>\n",
       "    .dataframe tbody tr th:only-of-type {\n",
       "        vertical-align: middle;\n",
       "    }\n",
       "\n",
       "    .dataframe tbody tr th {\n",
       "        vertical-align: top;\n",
       "    }\n",
       "\n",
       "    .dataframe thead th {\n",
       "        text-align: right;\n",
       "    }\n",
       "</style>\n",
       "<table border=\"1\" class=\"dataframe\">\n",
       "  <thead>\n",
       "    <tr style=\"text-align: right;\">\n",
       "      <th></th>\n",
       "      <th>distance_to_goal</th>\n",
       "      <th>goal_angle</th>\n",
       "      <th>head</th>\n",
       "      <th>outcome</th>\n",
       "      <th>outcome_pred</th>\n",
       "    </tr>\n",
       "  </thead>\n",
       "  <tbody>\n",
       "    <tr>\n",
       "      <th>1146</th>\n",
       "      <td>12.806248</td>\n",
       "      <td>0.408149</td>\n",
       "      <td>1</td>\n",
       "      <td>0</td>\n",
       "      <td>0.048673</td>\n",
       "    </tr>\n",
       "    <tr>\n",
       "      <th>700</th>\n",
       "      <td>15.000000</td>\n",
       "      <td>0.331765</td>\n",
       "      <td>0</td>\n",
       "      <td>0</td>\n",
       "      <td>0.082432</td>\n",
       "    </tr>\n",
       "    <tr>\n",
       "      <th>1358</th>\n",
       "      <td>4.123106</td>\n",
       "      <td>1.446441</td>\n",
       "      <td>1</td>\n",
       "      <td>0</td>\n",
       "      <td>0.280420</td>\n",
       "    </tr>\n",
       "    <tr>\n",
       "      <th>204</th>\n",
       "      <td>11.313708</td>\n",
       "      <td>0.519146</td>\n",
       "      <td>0</td>\n",
       "      <td>0</td>\n",
       "      <td>0.137880</td>\n",
       "    </tr>\n",
       "    <tr>\n",
       "      <th>821</th>\n",
       "      <td>25.000000</td>\n",
       "      <td>0.305407</td>\n",
       "      <td>0</td>\n",
       "      <td>0</td>\n",
       "      <td>0.031314</td>\n",
       "    </tr>\n",
       "    <tr>\n",
       "      <th>16</th>\n",
       "      <td>22.803509</td>\n",
       "      <td>0.278300</td>\n",
       "      <td>0</td>\n",
       "      <td>0</td>\n",
       "      <td>0.037528</td>\n",
       "    </tr>\n",
       "    <tr>\n",
       "      <th>645</th>\n",
       "      <td>11.704700</td>\n",
       "      <td>0.628796</td>\n",
       "      <td>0</td>\n",
       "      <td>0</td>\n",
       "      <td>0.148248</td>\n",
       "    </tr>\n",
       "    <tr>\n",
       "      <th>102</th>\n",
       "      <td>26.000000</td>\n",
       "      <td>0.283096</td>\n",
       "      <td>0</td>\n",
       "      <td>0</td>\n",
       "      <td>0.027753</td>\n",
       "    </tr>\n",
       "    <tr>\n",
       "      <th>1385</th>\n",
       "      <td>10.295630</td>\n",
       "      <td>0.674741</td>\n",
       "      <td>1</td>\n",
       "      <td>0</td>\n",
       "      <td>0.081397</td>\n",
       "    </tr>\n",
       "    <tr>\n",
       "      <th>778</th>\n",
       "      <td>6.708204</td>\n",
       "      <td>1.027319</td>\n",
       "      <td>1</td>\n",
       "      <td>0</td>\n",
       "      <td>0.158337</td>\n",
       "    </tr>\n",
       "  </tbody>\n",
       "</table>\n",
       "</div>"
      ],
      "text/plain": [
       "      distance_to_goal  goal_angle  head  outcome  outcome_pred\n",
       "1146         12.806248    0.408149     1        0      0.048673\n",
       "700          15.000000    0.331765     0        0      0.082432\n",
       "1358          4.123106    1.446441     1        0      0.280420\n",
       "204          11.313708    0.519146     0        0      0.137880\n",
       "821          25.000000    0.305407     0        0      0.031314\n",
       "16           22.803509    0.278300     0        0      0.037528\n",
       "645          11.704700    0.628796     0        0      0.148248\n",
       "102          26.000000    0.283096     0        0      0.027753\n",
       "1385         10.295630    0.674741     1        0      0.081397\n",
       "778           6.708204    1.027319     1        0      0.158337"
      ]
     },
     "execution_count": 19,
     "metadata": {},
     "output_type": "execute_result"
    }
   ],
   "source": [
    "test_data.sample(10)"
   ]
  },
  {
   "cell_type": "markdown",
   "metadata": {},
   "source": [
    "We will validate if the models predictions are any good with an accuracy test."
   ]
  },
  {
   "cell_type": "code",
   "execution_count": 25,
   "metadata": {},
   "outputs": [
    {
     "data": {
      "text/plain": [
       "0.9003215434083601"
      ]
     },
     "execution_count": 25,
     "metadata": {},
     "output_type": "execute_result"
    }
   ],
   "source": [
    "from sklearn.metrics import accuracy_score\n",
    "\n",
    "#calculate accuracy, first argument is the real outcome and the second argument is the predicted outcome\n",
    "##we round the probabilites to get either 0 or 1, dependent if the probability is greater or lower than 0.5\n",
    "accuracy_score(test_data[target], test_data[f\"{target}_pred\"].round(0))"
   ]
  },
  {
   "cell_type": "markdown",
   "metadata": {},
   "source": [
    "So accuracy is basically how accurate our model is in predticting if the shot were a goal. I.e. how many times did your model predict __goal (1)__ when the shot was a __goal (1)__ and __no goal (0)__, when the shot was a __no goal (0)__.\n",
    "\n",
    "As we can see the `accuracy is 90%`, which is realitively good. But when we take into consideration that a lot of the shots results in no goal (0). The accuracy isn't so good, because the model could just predict no goal for all shots and the accuracy would still be around 90%. Which we can see below."
   ]
  },
  {
   "cell_type": "code",
   "execution_count": 26,
   "metadata": {},
   "outputs": [
    {
     "data": {
      "text/plain": [
       "0.9067524115755627"
      ]
     },
     "execution_count": 26,
     "metadata": {},
     "output_type": "execute_result"
    }
   ],
   "source": [
    "accuracy_score(test_data[target], np.zeros(test_data[target].shape))"
   ]
  },
  {
   "cell_type": "markdown",
   "metadata": {},
   "source": [
    "So you could easily argue that we should use different features, which are better predictors for if the shot would result in a goal.\n",
    "\n",
    "Therefore is a better metric to evaluate our model is to look at the `Log Loss` function and compare it to if the model would only predict `no goal`. The `Log Loss` function is a measure of _\"How likely did the model think the actually observed set of outcomes was\"_. (https://www.kaggle.com/dansbecker/what-is-log-loss)\n",
    "\n",
    "This means that we can compare probabilities instead of binary 0's or 1's."
   ]
  },
  {
   "cell_type": "code",
   "execution_count": 47,
   "metadata": {},
   "outputs": [
    {
     "name": "stdout",
     "output_type": "stream",
     "text": [
      "prediction log loss: 0.2685514199236648\n",
      "prediction log loss: 0.3099878540629775\n"
     ]
    }
   ],
   "source": [
    "from sklearn.metrics import log_loss\n",
    "print(\"prediction log loss:\", f\"\"\"{log_loss(test_data[target], test_data[f\"{target}_pred\"])}\"\"\")\n",
    "print(\"prediction log loss:\", f\"\"\"{log_loss(test_data[target], np.repeat(test_data[target].mean(), test_data[target].shape))}\"\"\")"
   ]
  },
  {
   "cell_type": "markdown",
   "metadata": {},
   "source": [
    "A more intiutive evaluation of our model is just to compare our model to the `statsbomb_xg` probabilities (xg) (i.e. compare our minimalistic model to their were robust xg model).\n",
    "\n",
    "By plotting 311 random samples of statsbombs xg probabilities we can compare to our model and see that the distribution looks quite similar."
   ]
  },
  {
   "cell_type": "code",
   "execution_count": 64,
   "metadata": {},
   "outputs": [
    {
     "data": {
      "image/png": "[encoded data removed]",
      "text/plain": [
       "<Figure size 864x432 with 2 Axes>"
      ]
     },
     "metadata": {
      "needs_background": "light"
     },
     "output_type": "display_data"
    }
   ],
   "source": [
    "fig, (ax1, ax2) = plt.subplots(1, 2, figsize=(12,6))\n",
    "\n",
    "ax1.plot(sorted(predictions[f\"{target}_prob\"]))\n",
    "ax2.plot(sorted(shots['statsbomb_xg'].sample(311)))\n",
    "\n",
    "ax1.set_title(\"Our model probabilities\")\n",
    "ax2.set_title(\"Statsbomb_xg probabilities\")\n",
    "plt.show()"
   ]
  },
  {
   "cell_type": "markdown",
   "metadata": {},
   "source": [
    "-------------------------\n",
    "--------------------------"
   ]
  },
  {
   "cell_type": "markdown",
   "metadata": {},
   "source": [
    "This is a very simple logistic regression model, but in the notebook `xG_model` I will attempt to improve this model and expand to others model and see how they perform."
   ]
  },
  {
   "cell_type": "code",
   "execution_count": null,
   "metadata": {},
   "outputs": [],
   "source": []
  }
 ],
 "metadata": {
  "kernelspec": {
   "display_name": "Python 3",
   "language": "python",
   "name": "python3"
  },
  "language_info": {
   "codemirror_mode": {
    "name": "ipython",
    "version": 3
   },
   "file_extension": ".py",
   "mimetype": "text/x-python",
   "name": "python",
   "nbconvert_exporter": "python",
   "pygments_lexer": "ipython3",
   "version": "3.7.8"
  }
 },
 "nbformat": 4,
 "nbformat_minor": 4
}
