{
 "cells": [
  {
   "cell_type": "markdown",
   "metadata": {},
   "source": [
    "# Extract all Statsbomb shots\n",
    "I want to extract all the shots from the StatsBomb free online dataset and train an expected goals model."
   ]
  },
  {
   "cell_type": "markdown",
   "metadata": {},
   "source": [
    "`Logistic regression` is used when the targeted outcome is classified into two outcomes. But as linear regression only predict 0 or 1, we can with logistic regression we get a probability between 0 and 1 which is useful for the probability of a goal."
   ]
  },
  {
   "cell_type": "markdown",
   "metadata": {},
   "source": [
    "### Prepare data and all things for predictions"
   ]
  },
  {
   "cell_type": "code",
   "execution_count": 45,
   "metadata": {},
   "outputs": [],
   "source": [
    "#import libearies\n",
    "import requests\n",
    "import pandas as pd\n",
    "import numpy as np\n",
    "import pickle\n",
    "import matplotlib.pyplot as plt"
   ]
  },
  {
   "cell_type": "code",
   "execution_count": 5,
   "metadata": {},
   "outputs": [],
   "source": [
    "#the url´s where the data is stored\n",
    "base_url = \"https://raw.githubusercontent.com/statsbomb/open-data/master/data/\"\n",
    "comp_url = base_url + \"matches/{}/{}.json\"\n",
    "match_url = base_url + \"events/{}.json\""
   ]
  },
  {
   "cell_type": "code",
   "execution_count": 14,
   "metadata": {},
   "outputs": [],
   "source": [
    "#create our parse data function\n",
    "def parse_data(competition_id, season_id):\n",
    "    matches = requests.get(url = comp_url.format(competition_id, season_id)).json()\n",
    "    match_ids = [match[\"match_id\"] for match in matches]\n",
    "    \n",
    "    all_events = []\n",
    "    for match_id in match_ids:\n",
    "        \n",
    "        events = requests.get(url = match_url.format(match_id)).json()\n",
    "        \n",
    "        shots = [x for x in events if x[\"type\"][\"name\"] == \"Shot\"]\n",
    "        for shot in shots:\n",
    "            attributes = {\n",
    "                \"x\": shot[\"location\"][0],\n",
    "                \"y\": shot[\"location\"][1],\n",
    "                \"minute\": shot[\"minute\"],\n",
    "                \"head\": 1 if shot[\"shot\"][\"body_part\"][\"name\"] == \"Head\" else 0,\n",
    "                \"phase\": shot[\"shot\"][\"type\"][\"name\"],\n",
    "                \"outcome\": 1 if shot[\"shot\"][\"outcome\"][\"name\"] == \"Goal\" else 0,\n",
    "                \"statsbomb_xg\": shot[\"shot\"][\"statsbomb_xg\"]\n",
    "            }\n",
    "            all_events.append(attributes)\n",
    "        \n",
    "    return pd.DataFrame(all_events)"
   ]
  },
  {
   "cell_type": "code",
   "execution_count": 15,
   "metadata": {},
   "outputs": [],
   "source": [
    "competions = [16, 37, 43, 11, 49, 2, 72]\n",
    "season_messi = [1, 2, 21, 22, 23, 24, 25, 26, 27, 37, 38, 39, 4, 41, 42]\n",
    "season_cl = [1, 2, 21, 22, 23, 24, 25, 26, 27, 37, 39, 4, 41, 42, 44, 76]\n",
    "season_2 = [44]\n",
    "season_37 = [4, 42, 90]\n",
    "season_43 = [3]\n",
    "season_49 = [3]\n",
    "season_72 = [30]"
   ]
  },
  {
   "cell_type": "code",
   "execution_count": 25,
   "metadata": {},
   "outputs": [],
   "source": [
    "df_messi_1 = parse_data(16, 1)\n",
    "df_messi_2 = parse_data(16, 2)\n",
    "df_messi_21 = parse_data(16, 21)\n",
    "df_messi_22 = parse_data(16, 22)\n",
    "df_messi_23 = parse_data(16, 23)\n",
    "df_messi_24 = parse_data(16, 24)\n",
    "df_messi_25 = parse_data(16, 25)\n",
    "df_messi_26 = parse_data(16, 26)\n",
    "df_messi_27 = parse_data(16, 27)\n",
    "df_messi_37 = parse_data(16, 37)\n",
    "#df_messi_38 = parse_data(16, 38)\n",
    "df_messi_39 = parse_data(16, 39)\n",
    "df_messi_4 = parse_data(16, 4)\n",
    "df_messi_41 = parse_data(16, 41)\n",
    "df_messi_42 = parse_data(16, 42)"
   ]
  },
  {
   "cell_type": "code",
   "execution_count": 26,
   "metadata": {},
   "outputs": [],
   "source": [
    "df_cl_1 = parse_data(16, 1)\n",
    "df_cl_2 = parse_data(16, 2)\n",
    "df_cl_21 = parse_data(16, 21)\n",
    "df_cl_22 = parse_data(16, 22)\n",
    "df_cl_23 = parse_data(16, 23)\n",
    "df_cl_24 = parse_data(16, 24)\n",
    "df_cl_25 = parse_data(16, 25)\n",
    "df_cl_26 = parse_data(16, 26)\n",
    "df_cl_27 = parse_data(16, 27)\n",
    "df_cl_37 = parse_data(16, 37)\n",
    "df_cl_39 = parse_data(16, 39)\n",
    "df_cl_4 = parse_data(16, 4)\n",
    "df_cl_41 = parse_data(16, 41)\n",
    "df_cl_42 = parse_data(16, 42)\n",
    "df_cl_44 = parse_data(16, 44)\n",
    "df_cl_76 = parse_data(16, 76)"
   ]
  },
  {
   "cell_type": "code",
   "execution_count": 27,
   "metadata": {},
   "outputs": [],
   "source": [
    "df_season_2 = parse_data(2, 44)\n",
    "df_season_37_1 = parse_data(37, 4)\n",
    "df_season_37_2 = parse_data(37 ,42)\n",
    "df_season_37_3 = parse_data(37, 90)\n",
    "df_season_43 = parse_data(43, 3)\n",
    "df_season_49 = parse_data(49, 3)\n",
    "df_season_72 = parse_data(72, 30)"
   ]
  },
  {
   "cell_type": "code",
   "execution_count": 31,
   "metadata": {},
   "outputs": [],
   "source": [
    "all_shots = pd.concat([df_messi_1, df_messi_2, df_messi_21, df_messi_22, df_messi_23, df_messi_24, df_messi_25,\n",
    "          df_messi_26, df_messi_27, df_messi_37, df_messi_39, df_messi_4, df_messi_41, df_messi_42,\n",
    "          df_cl_1, df_cl_2, df_cl_21, df_cl_22, df_cl_23, df_cl_24, df_cl_25, df_cl_26, df_cl_27,\n",
    "          df_cl_37, df_cl_39, df_cl_4, df_cl_41, df_cl_42, df_cl_44, df_cl_76, df_season_2,\n",
    "          df_season_37_1, df_season_37_2, df_season_37_3, df_season_43, df_season_49, df_season_72], ignore_index=True)"
   ]
  },
  {
   "cell_type": "markdown",
   "metadata": {},
   "source": [
    "This time we have added additional data to the `parse_data` function to give our model different features to work with and therefore create the best model.\n",
    "- x - the x-coordinate of the shot ranges from 0 to 120\n",
    "- y - the y-coordinate of the shot ranges from 0 to 80\n",
    "- minute - what minute the shot were taken\n",
    "- head - if the shot was attempted with the head\n",
    "- phase - what phase of play did the shot come from\n",
    "- outcome - did the shot result in a goal\n",
    "- statsbomb_xg - for comparison purposes at the end of the notebook\n",
    "\n",
    "**Note:** _We will not use the xG as a feature to our model because the xG is already a really prediction of the outcome of if the shot resulted in a goal._"
   ]
  },
  {
   "cell_type": "markdown",
   "metadata": {},
   "source": [
    "**Why these features**:\n",
    "- x and y\n",
    "- minute\n",
    "- head\n",
    "- phase\n",
    "- outcome\n",
    "- statsbomb_xg"
   ]
  },
  {
   "cell_type": "code",
   "execution_count": 33,
   "metadata": {},
   "outputs": [
    {
     "data": {
      "text/html": [
       "<div>\n",
       "<style scoped>\n",
       "    .dataframe tbody tr th:only-of-type {\n",
       "        vertical-align: middle;\n",
       "    }\n",
       "\n",
       "    .dataframe tbody tr th {\n",
       "        vertical-align: top;\n",
       "    }\n",
       "\n",
       "    .dataframe thead th {\n",
       "        text-align: right;\n",
       "    }\n",
       "</style>\n",
       "<table border=\"1\" class=\"dataframe\">\n",
       "  <thead>\n",
       "    <tr style=\"text-align: right;\">\n",
       "      <th></th>\n",
       "      <th>x</th>\n",
       "      <th>y</th>\n",
       "      <th>minute</th>\n",
       "      <th>head</th>\n",
       "      <th>phase</th>\n",
       "      <th>outcome</th>\n",
       "      <th>statsbomb_xg</th>\n",
       "    </tr>\n",
       "  </thead>\n",
       "  <tbody>\n",
       "    <tr>\n",
       "      <th>0</th>\n",
       "      <td>98.1</td>\n",
       "      <td>52.1</td>\n",
       "      <td>2</td>\n",
       "      <td>0</td>\n",
       "      <td>Open Play</td>\n",
       "      <td>0</td>\n",
       "      <td>0.030348</td>\n",
       "    </tr>\n",
       "    <tr>\n",
       "      <th>1</th>\n",
       "      <td>96.6</td>\n",
       "      <td>51.5</td>\n",
       "      <td>5</td>\n",
       "      <td>0</td>\n",
       "      <td>Open Play</td>\n",
       "      <td>0</td>\n",
       "      <td>0.022281</td>\n",
       "    </tr>\n",
       "    <tr>\n",
       "      <th>2</th>\n",
       "      <td>112.1</td>\n",
       "      <td>30.6</td>\n",
       "      <td>7</td>\n",
       "      <td>1</td>\n",
       "      <td>Open Play</td>\n",
       "      <td>0</td>\n",
       "      <td>0.032780</td>\n",
       "    </tr>\n",
       "    <tr>\n",
       "      <th>3</th>\n",
       "      <td>94.5</td>\n",
       "      <td>26.9</td>\n",
       "      <td>10</td>\n",
       "      <td>0</td>\n",
       "      <td>Open Play</td>\n",
       "      <td>0</td>\n",
       "      <td>0.014330</td>\n",
       "    </tr>\n",
       "    <tr>\n",
       "      <th>4</th>\n",
       "      <td>101.2</td>\n",
       "      <td>30.6</td>\n",
       "      <td>13</td>\n",
       "      <td>0</td>\n",
       "      <td>Open Play</td>\n",
       "      <td>0</td>\n",
       "      <td>0.018739</td>\n",
       "    </tr>\n",
       "  </tbody>\n",
       "</table>\n",
       "</div>"
      ],
      "text/plain": [
       "       x     y  minute  head      phase  outcome  statsbomb_xg\n",
       "0   98.1  52.1       2     0  Open Play        0      0.030348\n",
       "1   96.6  51.5       5     0  Open Play        0      0.022281\n",
       "2  112.1  30.6       7     1  Open Play        0      0.032780\n",
       "3   94.5  26.9      10     0  Open Play        0      0.014330\n",
       "4  101.2  30.6      13     0  Open Play        0      0.018739"
      ]
     },
     "execution_count": 33,
     "metadata": {},
     "output_type": "execute_result"
    }
   ],
   "source": [
    "all_shots.head()"
   ]
  },
  {
   "cell_type": "markdown",
   "metadata": {},
   "source": [
    "#### We can now create some measurements about the shots, which we believe are a good predictor if the shot results in a goal. \n",
    "More precise are these features of the shot `distance_to_goal` and `goal_angle`."
   ]
  },
  {
   "cell_type": "code",
   "execution_count": 34,
   "metadata": {},
   "outputs": [],
   "source": [
    "#function that calculates the distance to the center of the goal\n",
    "def distance_to_goal(origin):\n",
    "    dest = np.array([120., 40.])\n",
    "    return np.sqrt(np.sum((origin - dest) ** 2))"
   ]
  },
  {
   "cell_type": "code",
   "execution_count": 35,
   "metadata": {},
   "outputs": [],
   "source": [
    "#function that calculates the angle within the shot is taken\n",
    "def goal_angle(origin):\n",
    "    p0 = np.array((120., 36.))  # Left Post\n",
    "    p1 = np.array(origin, dtype=np.float)\n",
    "    p2 = np.array((120., 44.))  # Right Post\n",
    "\n",
    "    v0 = p0 - p1\n",
    "    v1 = p2 - p1\n",
    "\n",
    "    angle = np.abs(np.math.atan2(np.linalg.det([v0, v1]), np.dot(v0, v1)))\n",
    "    \n",
    "    return angle"
   ]
  },
  {
   "cell_type": "markdown",
   "metadata": {},
   "source": [
    "We will now add these columns to our dataframe.\n",
    "\n",
    "We will use the technique `broadcasting`, which is efficient in large datasets. (https://stackoverflow.com/questions/29954263/what-does-the-term-broadcasting-mean-in-pandas-documentation)\n",
    "\n",
    "We are also using the `lambda` to avoid loopig through our pandas df."
   ]
  },
  {
   "cell_type": "code",
   "execution_count": 37,
   "metadata": {},
   "outputs": [],
   "source": [
    "all_shots['distance_to_goal'] = all_shots.apply(lambda row: distance_to_goal(row[['x', 'y']]), axis=1)\n",
    "all_shots['goal_angle'] = all_shots.apply(lambda r: goal_angle(r[['x', 'y']]), axis=1)"
   ]
  },
  {
   "cell_type": "markdown",
   "metadata": {},
   "source": [
    "We now removes Free Kicks and Penalties from our dataframe/training set.\n",
    "\n",
    "This done because having Free Kicks and Penalties will skew our results, because most samples comes from Open Play."
   ]
  },
  {
   "cell_type": "code",
   "execution_count": 38,
   "metadata": {},
   "outputs": [],
   "source": [
    "all_shots_final = all_shots[~all_shots['phase'].isin(['Free Kick', 'Penalty'])]"
   ]
  },
  {
   "cell_type": "markdown",
   "metadata": {},
   "source": [
    "## Prediction and logistic regression"
   ]
  },
  {
   "cell_type": "code",
   "execution_count": 39,
   "metadata": {},
   "outputs": [],
   "source": [
    "#choose the features and what we want to predict\n",
    "features = ['distance_to_goal', 'goal_angle', 'head']\n",
    "target = 'outcome'"
   ]
  },
  {
   "cell_type": "markdown",
   "metadata": {},
   "source": [
    "The `features` of the model will be distance, angle and if the shot were headed. These features ww think are good features to predict if the shot will result in a goal.\n",
    "\n",
    "The `target` is what we want to predict. We want to predict if the shot results in a goal (1) or no goal (0)."
   ]
  },
  {
   "cell_type": "code",
   "execution_count": 40,
   "metadata": {},
   "outputs": [
    {
     "data": {
      "text/html": [
       "<div>\n",
       "<style scoped>\n",
       "    .dataframe tbody tr th:only-of-type {\n",
       "        vertical-align: middle;\n",
       "    }\n",
       "\n",
       "    .dataframe tbody tr th {\n",
       "        vertical-align: top;\n",
       "    }\n",
       "\n",
       "    .dataframe thead th {\n",
       "        text-align: right;\n",
       "    }\n",
       "</style>\n",
       "<table border=\"1\" class=\"dataframe\">\n",
       "  <thead>\n",
       "    <tr style=\"text-align: right;\">\n",
       "      <th></th>\n",
       "      <th>distance_to_goal</th>\n",
       "      <th>goal_angle</th>\n",
       "      <th>head</th>\n",
       "      <th>outcome</th>\n",
       "    </tr>\n",
       "  </thead>\n",
       "  <tbody>\n",
       "    <tr>\n",
       "      <th>0</th>\n",
       "      <td>25.020392</td>\n",
       "      <td>0.279676</td>\n",
       "      <td>0</td>\n",
       "      <td>0</td>\n",
       "    </tr>\n",
       "    <tr>\n",
       "      <th>1</th>\n",
       "      <td>26.073166</td>\n",
       "      <td>0.274870</td>\n",
       "      <td>0</td>\n",
       "      <td>0</td>\n",
       "    </tr>\n",
       "    <tr>\n",
       "      <th>2</th>\n",
       "      <td>12.278844</td>\n",
       "      <td>0.438498</td>\n",
       "      <td>1</td>\n",
       "      <td>0</td>\n",
       "    </tr>\n",
       "    <tr>\n",
       "      <th>3</th>\n",
       "      <td>28.668101</td>\n",
       "      <td>0.247937</td>\n",
       "      <td>0</td>\n",
       "      <td>0</td>\n",
       "    </tr>\n",
       "    <tr>\n",
       "      <th>4</th>\n",
       "      <td>21.019039</td>\n",
       "      <td>0.339538</td>\n",
       "      <td>0</td>\n",
       "      <td>0</td>\n",
       "    </tr>\n",
       "  </tbody>\n",
       "</table>\n",
       "</div>"
      ],
      "text/plain": [
       "   distance_to_goal  goal_angle  head  outcome\n",
       "0         25.020392    0.279676     0        0\n",
       "1         26.073166    0.274870     0        0\n",
       "2         12.278844    0.438498     1        0\n",
       "3         28.668101    0.247937     0        0\n",
       "4         21.019039    0.339538     0        0"
      ]
     },
     "execution_count": 40,
     "metadata": {},
     "output_type": "execute_result"
    }
   ],
   "source": [
    "all_shots_final[features+[target]].head()"
   ]
  },
  {
   "cell_type": "markdown",
   "metadata": {},
   "source": [
    "#### We will use all the data for training so no need to create a test set"
   ]
  },
  {
   "cell_type": "code",
   "execution_count": 41,
   "metadata": {},
   "outputs": [
    {
     "name": "stdout",
     "output_type": "stream",
     "text": [
      "train: (8106, 4)\n",
      "test: (2027, 4)\n"
     ]
    }
   ],
   "source": [
    "'''\n",
    "#create train- and test set\n",
    "test_data = (all_shots_final.loc[:, features+[target]]\n",
    "             .sample(frac=.2))\n",
    "\n",
    "train_data = (all_shots_final.loc[~all_shots_final.index.isin(test_data.index.values), \n",
    "                        features+[target]]) \n",
    "\n",
    "print(f\"train: {train_data.shape}\\ntest: {test_data.shape}\") #print the dimension of our data, to see if done correctly\n",
    "'''"
   ]
  },
  {
   "cell_type": "markdown",
   "metadata": {},
   "source": [
    "In `test_data` we selects a sample of 20% of the shots with the features and target dimensions\n",
    "\n",
    "In `train_data` we selects the remaining instances from the shots\n",
    "This is done excluding the index values from the shots data, which appears in the `test_data`"
   ]
  },
  {
   "cell_type": "code",
   "execution_count": 46,
   "metadata": {},
   "outputs": [],
   "source": [
    "#import the logistic model initialize our model\n",
    "from sklearn.linear_model import LogisticRegression\n",
    "model = LogisticRegression()\n",
    "\n",
    "#train our model on the train_data\n",
    "LR_model = model.fit(all_shots_final.loc[:, features], \n",
    "                all_shots_final.loc[:, target])"
   ]
  },
  {
   "cell_type": "markdown",
   "metadata": {},
   "source": [
    "Firstly we import `LogisticRegression` to we can initialize a model.\n",
    "\n",
    "We can then train our model on the `train_data`."
   ]
  },
  {
   "cell_type": "markdown",
   "metadata": {},
   "source": [
    "### Save our model"
   ]
  },
  {
   "cell_type": "code",
   "execution_count": 48,
   "metadata": {},
   "outputs": [],
   "source": [
    "Pkl_Filename = \"Pickle_RL_Model.pkl\"  \n",
    "\n",
    "with open(Pkl_Filename, 'wb') as file:  \n",
    "    pickle.dump(LR_model, file)"
   ]
  },
  {
   "cell_type": "code",
   "execution_count": null,
   "metadata": {},
   "outputs": [],
   "source": []
  },
  {
   "cell_type": "code",
   "execution_count": null,
   "metadata": {},
   "outputs": [],
   "source": []
  },
  {
   "cell_type": "code",
   "execution_count": null,
   "metadata": {},
   "outputs": [],
   "source": []
  },
  {
   "cell_type": "code",
   "execution_count": null,
   "metadata": {},
   "outputs": [],
   "source": []
  },
  {
   "cell_type": "code",
   "execution_count": null,
   "metadata": {},
   "outputs": [],
   "source": []
  },
  {
   "cell_type": "code",
   "execution_count": null,
   "metadata": {},
   "outputs": [],
   "source": []
  },
  {
   "cell_type": "code",
   "execution_count": null,
   "metadata": {},
   "outputs": [],
   "source": []
  },
  {
   "cell_type": "code",
   "execution_count": null,
   "metadata": {},
   "outputs": [],
   "source": []
  },
  {
   "cell_type": "code",
   "execution_count": null,
   "metadata": {},
   "outputs": [],
   "source": []
  },
  {
   "cell_type": "code",
   "execution_count": 14,
   "metadata": {},
   "outputs": [],
   "source": [
    "#we can now make our prediction with the model we have just trained\n",
    "predictions = pd.DataFrame(model.predict_proba(test_data.loc[:, features]), \n",
    "                           index = test_data.index, \n",
    "                           columns=[0, f\"{target}_prob\"])"
   ]
  },
  {
   "cell_type": "code",
   "execution_count": 15,
   "metadata": {},
   "outputs": [
    {
     "data": {
      "text/html": [
       "<div>\n",
       "<style scoped>\n",
       "    .dataframe tbody tr th:only-of-type {\n",
       "        vertical-align: middle;\n",
       "    }\n",
       "\n",
       "    .dataframe tbody tr th {\n",
       "        vertical-align: top;\n",
       "    }\n",
       "\n",
       "    .dataframe thead th {\n",
       "        text-align: right;\n",
       "    }\n",
       "</style>\n",
       "<table border=\"1\" class=\"dataframe\">\n",
       "  <thead>\n",
       "    <tr style=\"text-align: right;\">\n",
       "      <th></th>\n",
       "      <th>0</th>\n",
       "      <th>outcome_prob</th>\n",
       "    </tr>\n",
       "  </thead>\n",
       "  <tbody>\n",
       "    <tr>\n",
       "      <th>943</th>\n",
       "      <td>0.945927</td>\n",
       "      <td>0.054073</td>\n",
       "    </tr>\n",
       "    <tr>\n",
       "      <th>868</th>\n",
       "      <td>0.987817</td>\n",
       "      <td>0.012183</td>\n",
       "    </tr>\n",
       "    <tr>\n",
       "      <th>291</th>\n",
       "      <td>0.917839</td>\n",
       "      <td>0.082161</td>\n",
       "    </tr>\n",
       "    <tr>\n",
       "      <th>1577</th>\n",
       "      <td>0.931780</td>\n",
       "      <td>0.068220</td>\n",
       "    </tr>\n",
       "    <tr>\n",
       "      <th>848</th>\n",
       "      <td>0.965003</td>\n",
       "      <td>0.034997</td>\n",
       "    </tr>\n",
       "  </tbody>\n",
       "</table>\n",
       "</div>"
      ],
      "text/plain": [
       "             0  outcome_prob\n",
       "943   0.945927      0.054073\n",
       "868   0.987817      0.012183\n",
       "291   0.917839      0.082161\n",
       "1577  0.931780      0.068220\n",
       "848   0.965003      0.034997"
      ]
     },
     "execution_count": 15,
     "metadata": {},
     "output_type": "execute_result"
    }
   ],
   "source": [
    "predictions.head()"
   ]
  },
  {
   "cell_type": "markdown",
   "metadata": {},
   "source": [
    "Above we make our model makes the predtictions on our `test_data`.\n",
    "\n",
    "- `model.predict_proba` function because we want to predict a probability of the shot resulting in a goal (i.e. xg).\n",
    "- `ìndex` we match the index to the indices from the `test_data`. This is done because otherwise our `predictions` wouldn't match the `test_data` and the predictions would look very wrong.\n",
    "- `columns` we rename the second column to _outcome_ \\_prob, because this column represents our model predicted goal probability of the shot."
   ]
  },
  {
   "cell_type": "code",
   "execution_count": 16,
   "metadata": {},
   "outputs": [],
   "source": [
    "#add predicted column to our `test_data`\n",
    "test_data[f\"{target}_pred\"] = predictions[f\"{target}_prob\"]"
   ]
  },
  {
   "cell_type": "markdown",
   "metadata": {},
   "source": [
    "Our models prediction is then added to the `test_data` so we can make a quick investigation of the precision of our models predictions."
   ]
  },
  {
   "cell_type": "code",
   "execution_count": 17,
   "metadata": {},
   "outputs": [
    {
     "data": {
      "text/html": [
       "<div>\n",
       "<style scoped>\n",
       "    .dataframe tbody tr th:only-of-type {\n",
       "        vertical-align: middle;\n",
       "    }\n",
       "\n",
       "    .dataframe tbody tr th {\n",
       "        vertical-align: top;\n",
       "    }\n",
       "\n",
       "    .dataframe thead th {\n",
       "        text-align: right;\n",
       "    }\n",
       "</style>\n",
       "<table border=\"1\" class=\"dataframe\">\n",
       "  <thead>\n",
       "    <tr style=\"text-align: right;\">\n",
       "      <th></th>\n",
       "      <th>distance_to_goal</th>\n",
       "      <th>goal_angle</th>\n",
       "      <th>head</th>\n",
       "      <th>outcome</th>\n",
       "      <th>outcome_pred</th>\n",
       "    </tr>\n",
       "  </thead>\n",
       "  <tbody>\n",
       "    <tr>\n",
       "      <th>1317</th>\n",
       "      <td>27.658633</td>\n",
       "      <td>0.280767</td>\n",
       "      <td>0</td>\n",
       "      <td>0</td>\n",
       "      <td>0.019973</td>\n",
       "    </tr>\n",
       "    <tr>\n",
       "      <th>317</th>\n",
       "      <td>61.522354</td>\n",
       "      <td>0.128761</td>\n",
       "      <td>0</td>\n",
       "      <td>0</td>\n",
       "      <td>0.000573</td>\n",
       "    </tr>\n",
       "    <tr>\n",
       "      <th>963</th>\n",
       "      <td>20.024984</td>\n",
       "      <td>0.393869</td>\n",
       "      <td>0</td>\n",
       "      <td>0</td>\n",
       "      <td>0.047697</td>\n",
       "    </tr>\n",
       "    <tr>\n",
       "      <th>757</th>\n",
       "      <td>12.083046</td>\n",
       "      <td>0.595070</td>\n",
       "      <td>1</td>\n",
       "      <td>0</td>\n",
       "      <td>0.069268</td>\n",
       "    </tr>\n",
       "    <tr>\n",
       "      <th>898</th>\n",
       "      <td>37.000000</td>\n",
       "      <td>0.215380</td>\n",
       "      <td>0</td>\n",
       "      <td>0</td>\n",
       "      <td>0.007345</td>\n",
       "    </tr>\n",
       "    <tr>\n",
       "      <th>1403</th>\n",
       "      <td>19.104973</td>\n",
       "      <td>0.289616</td>\n",
       "      <td>0</td>\n",
       "      <td>0</td>\n",
       "      <td>0.046252</td>\n",
       "    </tr>\n",
       "    <tr>\n",
       "      <th>258</th>\n",
       "      <td>12.206556</td>\n",
       "      <td>0.398522</td>\n",
       "      <td>0</td>\n",
       "      <td>0</td>\n",
       "      <td>0.099237</td>\n",
       "    </tr>\n",
       "    <tr>\n",
       "      <th>1270</th>\n",
       "      <td>24.186773</td>\n",
       "      <td>0.287098</td>\n",
       "      <td>0</td>\n",
       "      <td>1</td>\n",
       "      <td>0.028248</td>\n",
       "    </tr>\n",
       "    <tr>\n",
       "      <th>902</th>\n",
       "      <td>6.708204</td>\n",
       "      <td>1.027319</td>\n",
       "      <td>1</td>\n",
       "      <td>0</td>\n",
       "      <td>0.175926</td>\n",
       "    </tr>\n",
       "    <tr>\n",
       "      <th>544</th>\n",
       "      <td>5.000000</td>\n",
       "      <td>1.212026</td>\n",
       "      <td>0</td>\n",
       "      <td>0</td>\n",
       "      <td>0.374323</td>\n",
       "    </tr>\n",
       "  </tbody>\n",
       "</table>\n",
       "</div>"
      ],
      "text/plain": [
       "      distance_to_goal  goal_angle  head  outcome  outcome_pred\n",
       "1317         27.658633    0.280767     0        0      0.019973\n",
       "317          61.522354    0.128761     0        0      0.000573\n",
       "963          20.024984    0.393869     0        0      0.047697\n",
       "757          12.083046    0.595070     1        0      0.069268\n",
       "898          37.000000    0.215380     0        0      0.007345\n",
       "1403         19.104973    0.289616     0        0      0.046252\n",
       "258          12.206556    0.398522     0        0      0.099237\n",
       "1270         24.186773    0.287098     0        1      0.028248\n",
       "902           6.708204    1.027319     1        0      0.175926\n",
       "544           5.000000    1.212026     0        0      0.374323"
      ]
     },
     "execution_count": 17,
     "metadata": {},
     "output_type": "execute_result"
    }
   ],
   "source": [
    "test_data.sample(10)"
   ]
  },
  {
   "cell_type": "markdown",
   "metadata": {},
   "source": [
    "We will validate if the models predictions are any good with an accuracy test."
   ]
  },
  {
   "cell_type": "code",
   "execution_count": 18,
   "metadata": {},
   "outputs": [
    {
     "data": {
      "text/plain": [
       "0.8906752411575563"
      ]
     },
     "execution_count": 18,
     "metadata": {},
     "output_type": "execute_result"
    }
   ],
   "source": [
    "from sklearn.metrics import accuracy_score\n",
    "\n",
    "#calculate accuracy, first argument is the real outcome and the second argument is the predicted outcome\n",
    "##we round the probabilites to get either 0 or 1, dependent if the probability is greater or lower than 0.5\n",
    "accuracy_score(test_data[target], test_data[f\"{target}_pred\"].round(0))"
   ]
  },
  {
   "cell_type": "markdown",
   "metadata": {},
   "source": [
    "So accuracy is basically how accurate our model is in predticting if the shot were a goal. I.e. how many times did your model predict __goal (1)__ when the shot was a __goal (1)__ and __no goal (0)__, when the shot was a __no goal (0)__.\n",
    "\n",
    "As we can see the `accuracy is 90%`, which is realitively good. But when we take into consideration that a lot of the shots results in no goal (0). The accuracy isn't so good, because the model could just predict no goal for all shots and the accuracy would still be around 90%. Which we can see below."
   ]
  },
  {
   "cell_type": "code",
   "execution_count": 19,
   "metadata": {},
   "outputs": [
    {
     "data": {
      "text/plain": [
       "0.8906752411575563"
      ]
     },
     "execution_count": 19,
     "metadata": {},
     "output_type": "execute_result"
    }
   ],
   "source": [
    "accuracy_score(test_data[target], np.zeros(test_data[target].shape))"
   ]
  },
  {
   "cell_type": "markdown",
   "metadata": {},
   "source": [
    "So you could easily argue that we should use different features, which are better predictors for if the shot would result in a goal.\n",
    "\n",
    "Therefore is a better metric to evaluate our model is to look at the `Log Loss` function and compare it to if the model would only predict `no goal`. The `Log Loss` function is a measure of _\"How likely did the model think the actually observed set of outcomes was\"_. (https://www.kaggle.com/dansbecker/what-is-log-loss)\n",
    "\n",
    "This means that we can compare probabilities instead of binary 0's or 1's."
   ]
  },
  {
   "cell_type": "code",
   "execution_count": 20,
   "metadata": {},
   "outputs": [
    {
     "name": "stdout",
     "output_type": "stream",
     "text": [
      "prediction log loss: 0.3181610169794675\n",
      "prediction log loss: 0.3451012496363331\n"
     ]
    }
   ],
   "source": [
    "from sklearn.metrics import log_loss\n",
    "print(\"prediction log loss:\", f\"\"\"{log_loss(test_data[target], test_data[f\"{target}_pred\"])}\"\"\")\n",
    "print(\"prediction log loss:\", f\"\"\"{log_loss(test_data[target], np.repeat(test_data[target].mean(), test_data[target].shape))}\"\"\")"
   ]
  },
  {
   "cell_type": "markdown",
   "metadata": {},
   "source": [
    "A more intiutive evaluation of our model is just to compare our model to the `statsbomb_xg` probabilities (xg) (i.e. compare our minimalistic model to their were robust xg model).\n",
    "\n",
    "By plotting 311 random samples of statsbombs xg probabilities we can compare to our model and see that the distribution looks quite similar."
   ]
  },
  {
   "cell_type": "code",
   "execution_count": 21,
   "metadata": {},
   "outputs": [
    {
     "data": {
      "image/png": "[encoded data removed]",
      "text/plain": [
       "<Figure size 864x432 with 2 Axes>"
      ]
     },
     "metadata": {
      "needs_background": "light"
     },
     "output_type": "display_data"
    }
   ],
   "source": [
    "fig, (ax1, ax2) = plt.subplots(1, 2, figsize=(12,6))\n",
    "\n",
    "ax1.plot(sorted(predictions[f\"{target}_prob\"]))\n",
    "ax2.plot(sorted(shots['statsbomb_xg'].sample(311)))\n",
    "\n",
    "ax1.set_title(\"Our model probabilities\")\n",
    "ax2.set_title(\"Statsbomb_xg probabilities\")\n",
    "plt.show()"
   ]
  },
  {
   "cell_type": "markdown",
   "metadata": {},
   "source": [
    "-------------------------\n",
    "--------------------------"
   ]
  },
  {
   "cell_type": "markdown",
   "metadata": {},
   "source": [
    "This is a very simple logistic regression model, but in the notebook `xG_model` I will attempt to improve this model and expand to others model and see how they perform."
   ]
  },
  {
   "cell_type": "code",
   "execution_count": null,
   "metadata": {},
   "outputs": [],
   "source": []
  }
 ],
 "metadata": {
  "kernelspec": {
   "display_name": "Python 3",
   "language": "python",
   "name": "python3"
  },
  "language_info": {
   "codemirror_mode": {
    "name": "ipython",
    "version": 3
   },
   "file_extension": ".py",
   "mimetype": "text/x-python",
   "name": "python",
   "nbconvert_exporter": "python",
   "pygments_lexer": "ipython3",
   "version": "3.8.5"
  }
 },
 "nbformat": 4,
 "nbformat_minor": 4
}
