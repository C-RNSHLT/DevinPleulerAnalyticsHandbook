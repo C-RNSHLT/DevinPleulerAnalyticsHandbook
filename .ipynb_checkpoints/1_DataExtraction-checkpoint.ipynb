{
 "cells": [
  {
   "cell_type": "markdown",
   "metadata": {},
   "source": [
    "# 1. Data Extraction\n",
    "Parsing raw _StatsBomb_ data and storing in _Pandas_ dataframe."
   ]
  },
  {
   "cell_type": "code",
   "execution_count": 3,
   "metadata": {},
   "outputs": [],
   "source": [
    "import requests\n",
    "import pandas as pd"
   ]
  },
  {
   "cell_type": "markdown",
   "metadata": {},
   "source": [
    "Extract the data from StatsBomb github page. The {} are filled out with .format() in the following _parse_data_ function."
   ]
  },
  {
   "cell_type": "code",
   "execution_count": 4,
   "metadata": {},
   "outputs": [],
   "source": [
    "base_url = \"https://raw.githubusercontent.com/statsbomb/open-data/master/data/\"\n",
    "comp_url = base_url + \"matches/{}/{}.json\"\n",
    "match_url = base_url + \"events/{}.json\""
   ]
  },
  {
   "cell_type": "markdown",
   "metadata": {},
   "source": [
    "A function (parse_data) which handles all extracting and transformation in one go.\n",
    "\n",
    "1. Load matches into _matches_ list\n",
    "2. The Match ID for each match is loaded into a seperate list\n",
    "3. Go through each Match ID and load the raw data from the match into the events list\n",
    "4. Shots are extracted into a seperate list with a filter on events\n",
    "5. Go through all shots and extract specfic features from the shot event and store in attributes dictionary.\n",
    "6. Append each the shot´s attributes into the all_events list"
   ]
  },
  {
   "cell_type": "code",
   "execution_count": 38,
   "metadata": {},
   "outputs": [],
   "source": [
    "def parse_data(competition_id, season_id):\n",
    "    matches = requests.get(url = comp_url.format(competition_id, season_id)).json()\n",
    "    match_ids = [match[\"match_id\"] for match in matches]\n",
    "    \n",
    "    all_events = []\n",
    "    for match_id in match_ids:\n",
    "        \n",
    "        events = requests.get(url = match_url.format(match_id)).json()\n",
    "        \n",
    "        shots = [x for x in events if x[\"type\"][\"name\"] == \"Shot\"]\n",
    "        for shot in shots:\n",
    "            attributes = {\n",
    "                \"match_id\": match_id,\n",
    "                \"team\": shot[\"possession_team\"][\"name\"],\n",
    "                \"player\": shot[\"player\"][\"name\"],\n",
    "                \"x\": shot[\"location\"][0],\n",
    "                \"y\": shot[\"location\"][1],\n",
    "                \"outcome\": shot[\"shot\"][\"outcome\"][\"name\"],\n",
    "            }\n",
    "            all_events.append(attributes)\n",
    "    return pd.DataFrame(all_events)"
   ]
  },
  {
   "cell_type": "markdown",
   "metadata": {},
   "source": [
    "The World Cup has competition_id 43 and season_id 3"
   ]
  },
  {
   "cell_type": "code",
   "execution_count": 9,
   "metadata": {},
   "outputs": [],
   "source": [
    "WC_id = 43\n",
    "season_id = 3"
   ]
  },
  {
   "cell_type": "markdown",
   "metadata": {},
   "source": [
    "Run function on World Cup data"
   ]
  },
  {
   "cell_type": "code",
   "execution_count": 40,
   "metadata": {},
   "outputs": [],
   "source": [
    "df = parse_data(WC_id, WC_season_id)"
   ]
  },
  {
   "cell_type": "code",
   "execution_count": 41,
   "metadata": {},
   "outputs": [
    {
     "data": {
      "text/html": [
       "<div>\n",
       "<style scoped>\n",
       "    .dataframe tbody tr th:only-of-type {\n",
       "        vertical-align: middle;\n",
       "    }\n",
       "\n",
       "    .dataframe tbody tr th {\n",
       "        vertical-align: top;\n",
       "    }\n",
       "\n",
       "    .dataframe thead th {\n",
       "        text-align: right;\n",
       "    }\n",
       "</style>\n",
       "<table border=\"1\" class=\"dataframe\">\n",
       "  <thead>\n",
       "    <tr style=\"text-align: right;\">\n",
       "      <th></th>\n",
       "      <th>match_id</th>\n",
       "      <th>team</th>\n",
       "      <th>player</th>\n",
       "      <th>x</th>\n",
       "      <th>y</th>\n",
       "      <th>outcome</th>\n",
       "    </tr>\n",
       "  </thead>\n",
       "  <tbody>\n",
       "    <tr>\n",
       "      <th>0</th>\n",
       "      <td>7581</td>\n",
       "      <td>Denmark</td>\n",
       "      <td>Mathias Jattah-Njie Jørgensen</td>\n",
       "      <td>115.0</td>\n",
       "      <td>34.0</td>\n",
       "      <td>Goal</td>\n",
       "    </tr>\n",
       "    <tr>\n",
       "      <th>1</th>\n",
       "      <td>7581</td>\n",
       "      <td>Croatia</td>\n",
       "      <td>Mario Mandžukić</td>\n",
       "      <td>112.0</td>\n",
       "      <td>36.0</td>\n",
       "      <td>Goal</td>\n",
       "    </tr>\n",
       "    <tr>\n",
       "      <th>2</th>\n",
       "      <td>7581</td>\n",
       "      <td>Croatia</td>\n",
       "      <td>Ivan Perišić</td>\n",
       "      <td>101.0</td>\n",
       "      <td>55.0</td>\n",
       "      <td>Blocked</td>\n",
       "    </tr>\n",
       "    <tr>\n",
       "      <th>3</th>\n",
       "      <td>7581</td>\n",
       "      <td>Croatia</td>\n",
       "      <td>Ivan Perišić</td>\n",
       "      <td>103.0</td>\n",
       "      <td>24.0</td>\n",
       "      <td>Blocked</td>\n",
       "    </tr>\n",
       "    <tr>\n",
       "      <th>4</th>\n",
       "      <td>7581</td>\n",
       "      <td>Denmark</td>\n",
       "      <td>Christian Dannemann Eriksen</td>\n",
       "      <td>96.0</td>\n",
       "      <td>37.0</td>\n",
       "      <td>Blocked</td>\n",
       "    </tr>\n",
       "    <tr>\n",
       "      <th>5</th>\n",
       "      <td>7581</td>\n",
       "      <td>Denmark</td>\n",
       "      <td>Martin Braithwaite Christensen</td>\n",
       "      <td>111.0</td>\n",
       "      <td>50.0</td>\n",
       "      <td>Saved</td>\n",
       "    </tr>\n",
       "    <tr>\n",
       "      <th>6</th>\n",
       "      <td>7581</td>\n",
       "      <td>Croatia</td>\n",
       "      <td>Ivan Rakitić</td>\n",
       "      <td>94.0</td>\n",
       "      <td>32.0</td>\n",
       "      <td>Saved</td>\n",
       "    </tr>\n",
       "    <tr>\n",
       "      <th>7</th>\n",
       "      <td>7581</td>\n",
       "      <td>Croatia</td>\n",
       "      <td>Ivan Perišić</td>\n",
       "      <td>110.0</td>\n",
       "      <td>32.0</td>\n",
       "      <td>Wayward</td>\n",
       "    </tr>\n",
       "    <tr>\n",
       "      <th>8</th>\n",
       "      <td>7581</td>\n",
       "      <td>Croatia</td>\n",
       "      <td>Ivan Perišić</td>\n",
       "      <td>111.0</td>\n",
       "      <td>34.0</td>\n",
       "      <td>Off T</td>\n",
       "    </tr>\n",
       "    <tr>\n",
       "      <th>9</th>\n",
       "      <td>7581</td>\n",
       "      <td>Croatia</td>\n",
       "      <td>Ante Rebić</td>\n",
       "      <td>97.0</td>\n",
       "      <td>30.0</td>\n",
       "      <td>Blocked</td>\n",
       "    </tr>\n",
       "  </tbody>\n",
       "</table>\n",
       "</div>"
      ],
      "text/plain": [
       "   match_id     team                          player      x     y  outcome\n",
       "0      7581  Denmark   Mathias Jattah-Njie Jørgensen  115.0  34.0     Goal\n",
       "1      7581  Croatia                 Mario Mandžukić  112.0  36.0     Goal\n",
       "2      7581  Croatia                    Ivan Perišić  101.0  55.0  Blocked\n",
       "3      7581  Croatia                    Ivan Perišić  103.0  24.0  Blocked\n",
       "4      7581  Denmark     Christian Dannemann Eriksen   96.0  37.0  Blocked\n",
       "5      7581  Denmark  Martin Braithwaite Christensen  111.0  50.0    Saved\n",
       "6      7581  Croatia                    Ivan Rakitić   94.0  32.0    Saved\n",
       "7      7581  Croatia                    Ivan Perišić  110.0  32.0  Wayward\n",
       "8      7581  Croatia                    Ivan Perišić  111.0  34.0    Off T\n",
       "9      7581  Croatia                      Ante Rebić   97.0  30.0  Blocked"
      ]
     },
     "execution_count": 41,
     "metadata": {},
     "output_type": "execute_result"
    }
   ],
   "source": [
    "df.head(10)"
   ]
  },
  {
   "cell_type": "markdown",
   "metadata": {},
   "source": [
    "### Exploring extracting different metrics from the dataset"
   ]
  },
  {
   "cell_type": "code",
   "execution_count": 38,
   "metadata": {},
   "outputs": [],
   "source": [
    "def parse_data2(competition_id, season_id):\n",
    "    matches = requests.get(url=comp_url.format(competition_id, season_id)).json()\n",
    "    match_ids = [match[\"match_id\"] for match in matches]\n",
    "    \n",
    "    all_events = []\n",
    "    for match in match_ids:\n",
    "        \n",
    "        events = requests.get(url=match_url.format(match)).json()\n",
    "        \n",
    "        duels = [x for x in events if x[\"type\"][\"name\"] == \"Duel\"]\n",
    "        \n",
    "        for duel in duels:\n",
    "            attributes = {\n",
    "                'player_id': duel['player']['name'],\n",
    "                'duel': 0 if 'Lost In Play' in duel['duel']['outcome']['name'] else 1,\n",
    "            }\n",
    "            all_events.append(attributes)\n",
    "    \n",
    "    return pd.DataFrame(all_events)"
   ]
  },
  {
   "cell_type": "code",
   "execution_count": 39,
   "metadata": {},
   "outputs": [
    {
     "ename": "KeyError",
     "evalue": "'outcome'",
     "output_type": "error",
     "traceback": [
      "\u001b[0;31m---------------------------------------------------------------------------\u001b[0m",
      "\u001b[0;31mKeyError\u001b[0m                                  Traceback (most recent call last)",
      "\u001b[0;32m<ipython-input-39-1bc4f2067475>\u001b[0m in \u001b[0;36m<module>\u001b[0;34m\u001b[0m\n\u001b[0;32m----> 1\u001b[0;31m \u001b[0mparse_data2\u001b[0m\u001b[0;34m(\u001b[0m\u001b[0mWC_id\u001b[0m\u001b[0;34m,\u001b[0m \u001b[0mseason_id\u001b[0m\u001b[0;34m)\u001b[0m\u001b[0;34m\u001b[0m\u001b[0;34m\u001b[0m\u001b[0m\n\u001b[0m",
      "\u001b[0;32m<ipython-input-38-9dbddec9ae14>\u001b[0m in \u001b[0;36mparse_data2\u001b[0;34m(competition_id, season_id)\u001b[0m\n\u001b[1;32m     13\u001b[0m             attributes = {\n\u001b[1;32m     14\u001b[0m                 \u001b[0;34m'player_id'\u001b[0m\u001b[0;34m:\u001b[0m \u001b[0mduel\u001b[0m\u001b[0;34m[\u001b[0m\u001b[0;34m'player'\u001b[0m\u001b[0;34m]\u001b[0m\u001b[0;34m[\u001b[0m\u001b[0;34m'name'\u001b[0m\u001b[0;34m]\u001b[0m\u001b[0;34m,\u001b[0m\u001b[0;34m\u001b[0m\u001b[0;34m\u001b[0m\u001b[0m\n\u001b[0;32m---> 15\u001b[0;31m                 \u001b[0;34m'duel'\u001b[0m\u001b[0;34m:\u001b[0m \u001b[0;36m0\u001b[0m \u001b[0;32mif\u001b[0m \u001b[0;34m'Lost In Play'\u001b[0m \u001b[0;32min\u001b[0m \u001b[0mduel\u001b[0m\u001b[0;34m[\u001b[0m\u001b[0;34m'duel'\u001b[0m\u001b[0;34m]\u001b[0m\u001b[0;34m[\u001b[0m\u001b[0;34m'outcome'\u001b[0m\u001b[0;34m]\u001b[0m\u001b[0;34m[\u001b[0m\u001b[0;34m'name'\u001b[0m\u001b[0;34m]\u001b[0m \u001b[0;32melse\u001b[0m \u001b[0;36m1\u001b[0m\u001b[0;34m,\u001b[0m\u001b[0;34m\u001b[0m\u001b[0;34m\u001b[0m\u001b[0m\n\u001b[0m\u001b[1;32m     16\u001b[0m             }\n\u001b[1;32m     17\u001b[0m             \u001b[0mall_events\u001b[0m\u001b[0;34m.\u001b[0m\u001b[0mappend\u001b[0m\u001b[0;34m(\u001b[0m\u001b[0mattributes\u001b[0m\u001b[0;34m)\u001b[0m\u001b[0;34m\u001b[0m\u001b[0;34m\u001b[0m\u001b[0m\n",
      "\u001b[0;31mKeyError\u001b[0m: 'outcome'"
     ]
    }
   ],
   "source": [
    "parse_data2(WC_id, season_id)"
   ]
  },
  {
   "cell_type": "code",
   "execution_count": null,
   "metadata": {},
   "outputs": [],
   "source": []
  }
 ],
 "metadata": {
  "kernelspec": {
   "display_name": "Python 3",
   "language": "python",
   "name": "python3"
  },
  "language_info": {
   "codemirror_mode": {
    "name": "ipython",
    "version": 3
   },
   "file_extension": ".py",
   "mimetype": "text/x-python",
   "name": "python",
   "nbconvert_exporter": "python",
   "pygments_lexer": "ipython3",
   "version": "3.7.8"
  }
 },
 "nbformat": 4,
 "nbformat_minor": 4
}
