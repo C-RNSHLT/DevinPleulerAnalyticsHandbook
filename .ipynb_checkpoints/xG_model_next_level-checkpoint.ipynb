{
 "cells": [
  {
   "cell_type": "markdown",
   "metadata": {},
   "source": [
    "# xG model - Udvikling af den basale xG model\n",
    "\n",
    "Modeller jeg bygger en følgende:\n",
    "- LogisticRegression\n",
    "- Gradient boost'\n",
    "- GAM\n",
    "\n",
    "Inspiration fra Nick Wan (https://colab.research.google.com/drive/1ZtGuRWRMc1I_V7EJDllLVOtdot_ZOJlx?usp=sharing#scrollTo=cXk8uxmOXR61)"
   ]
  },
  {
   "cell_type": "code",
   "execution_count": 1,
   "metadata": {},
   "outputs": [],
   "source": [
    "#import libearies\n",
    "import requests\n",
    "import pandas as pd\n",
    "import numpy as np\n",
    "import matplotlib.pyplot as plt"
   ]
  },
  {
   "cell_type": "code",
   "execution_count": 2,
   "metadata": {},
   "outputs": [],
   "source": [
    "#the url´s where the data is stored\n",
    "base_url = \"https://raw.githubusercontent.com/statsbomb/open-data/master/data/\"\n",
    "comp_url = base_url + \"matches/{}/{}.json\"\n",
    "match_url = base_url + \"events/{}.json\""
   ]
  },
  {
   "cell_type": "code",
   "execution_count": 3,
   "metadata": {},
   "outputs": [],
   "source": [
    "#create our parse data function\n",
    "def parse_events(competition_id, season_id):\n",
    "    matches = requests.get(url = comp_url.format(competition_id, season_id)).json()\n",
    "    match_ids = [match[\"match_id\"] for match in matches]\n",
    "    \n",
    "    all_events = []\n",
    "    for match_id in match_ids:\n",
    "        \n",
    "        events = requests.get(url = match_url.format(match_id)).json()\n",
    "        shots = [x for x in events if x[\"type\"][\"name\"] == \"Shot\"]\n",
    "        all_events.append(shots)\n",
    "        \n",
    "        \n",
    "    return all_events"
   ]
  },
  {
   "cell_type": "code",
   "execution_count": 4,
   "metadata": {},
   "outputs": [],
   "source": [
    "competition_id = 43\n",
    "season_id = 3"
   ]
  },
  {
   "cell_type": "code",
   "execution_count": 5,
   "metadata": {},
   "outputs": [],
   "source": [
    "df = parse_events(competition_id, season_id)"
   ]
  },
  {
   "cell_type": "code",
   "execution_count": 6,
   "metadata": {},
   "outputs": [
    {
     "data": {
      "text/plain": [
       "{'id': '45a8bcb7-b2a0-4f9c-8ec9-ff2d8e50e696',\n",
       " 'index': 38,\n",
       " 'period': 1,\n",
       " 'timestamp': '00:00:57.320',\n",
       " 'minute': 0,\n",
       " 'second': 57,\n",
       " 'type': {'id': 16, 'name': 'Shot'},\n",
       " 'possession': 3,\n",
       " 'possession_team': {'id': 776, 'name': 'Denmark'},\n",
       " 'play_pattern': {'id': 4, 'name': 'From Throw In'},\n",
       " 'team': {'id': 776, 'name': 'Denmark'},\n",
       " 'player': {'id': 3027, 'name': 'Mathias Jattah-Njie Jørgensen'},\n",
       " 'position': {'id': 5, 'name': 'Left Center Back'},\n",
       " 'location': [115.0, 34.0],\n",
       " 'duration': 0.64,\n",
       " 'related_events': ['6d329784-01e5-44df-b6cc-f55723dfc7cf'],\n",
       " 'shot': {'statsbomb_xg': 0.07408676,\n",
       "  'end_location': [119.0, 39.7, 0.2],\n",
       "  'key_pass_id': 'e5c989a0-5e4c-428d-9024-bffa382d7c45',\n",
       "  'outcome': {'id': 97, 'name': 'Goal'},\n",
       "  'body_part': {'id': 38, 'name': 'Left Foot'},\n",
       "  'type': {'id': 87, 'name': 'Open Play'},\n",
       "  'technique': {'id': 93, 'name': 'Normal'},\n",
       "  'freeze_frame': [{'location': [120.0, 38.0],\n",
       "    'player': {'id': 3444, 'name': 'Danijel Subašić'},\n",
       "    'position': {'id': 1, 'name': 'Goalkeeper'},\n",
       "    'teammate': False},\n",
       "   {'location': [114.0, 36.0],\n",
       "    'player': {'id': 5527, 'name': 'Thomas Delaney'},\n",
       "    'position': {'id': 15, 'name': 'Left Center Midfield'},\n",
       "    'teammate': True},\n",
       "   {'location': [114.0, 41.0],\n",
       "    'player': {'id': 5536, 'name': 'Yussuf Yurary Poulsen'},\n",
       "    'position': {'id': 17, 'name': 'Right Wing'},\n",
       "    'teammate': True},\n",
       "   {'location': [99.0, 34.0],\n",
       "    'player': {'id': 4447, 'name': 'Martin Braithwaite Christensen'},\n",
       "    'position': {'id': 21, 'name': 'Left Wing'},\n",
       "    'teammate': True},\n",
       "   {'location': [105.0, 52.0],\n",
       "    'player': {'id': 5470, 'name': 'Ivan Rakitić'},\n",
       "    'position': {'id': 15, 'name': 'Left Center Midfield'},\n",
       "    'teammate': False},\n",
       "   {'location': [105.0, 41.0],\n",
       "    'player': {'id': 3043, 'name': 'Christian Dannemann Eriksen'},\n",
       "    'position': {'id': 25, 'name': 'Secondary Striker'},\n",
       "    'teammate': True},\n",
       "   {'location': [118.0, 37.0],\n",
       "    'player': {'id': 5468, 'name': 'Domagoj Vida'},\n",
       "    'position': {'id': 5, 'name': 'Left Center Back'},\n",
       "    'teammate': False},\n",
       "   {'location': [116.0, 35.0],\n",
       "    'player': {'id': 5461, 'name': 'Šime Vrsaljko'},\n",
       "    'position': {'id': 2, 'name': 'Right Back'},\n",
       "    'teammate': False},\n",
       "   {'location': [116.0, 41.0],\n",
       "    'player': {'id': 3471, 'name': 'Dejan Lovren'},\n",
       "    'position': {'id': 3, 'name': 'Right Center Back'},\n",
       "    'teammate': False},\n",
       "   {'location': [115.0, 37.0],\n",
       "    'player': {'id': 5465, 'name': 'Ante Rebić'},\n",
       "    'position': {'id': 12, 'name': 'Right Midfield'},\n",
       "    'teammate': False},\n",
       "   {'location': [112.0, 35.0],\n",
       "    'player': {'id': 5469, 'name': 'Marcelo Brozović'},\n",
       "    'position': {'id': 10, 'name': 'Center Defensive Midfield'},\n",
       "    'teammate': False},\n",
       "   {'location': [113.0, 43.0],\n",
       "    'player': {'id': 5534, 'name': 'Simon Thorup Kjær'},\n",
       "    'position': {'id': 3, 'name': 'Right Center Back'},\n",
       "    'teammate': True},\n",
       "   {'location': [111.0, 43.0],\n",
       "    'player': {'id': 5472, 'name': 'Mario Mandžukić'},\n",
       "    'position': {'id': 23, 'name': 'Center Forward'},\n",
       "    'teammate': False},\n",
       "   {'location': [115.0, 45.0],\n",
       "    'player': {'id': 5457, 'name': 'Ivan Strinić'},\n",
       "    'position': {'id': 6, 'name': 'Left Back'},\n",
       "    'teammate': False},\n",
       "   {'location': [113.0, 45.0],\n",
       "    'player': {'id': 5732, 'name': 'Andreas Evald Cornelius'},\n",
       "    'position': {'id': 23, 'name': 'Center Forward'},\n",
       "    'teammate': True},\n",
       "   {'location': [117.0, 47.0],\n",
       "    'player': {'id': 5474, 'name': 'Ivan Perišić'},\n",
       "    'position': {'id': 16, 'name': 'Left Midfield'},\n",
       "    'teammate': False},\n",
       "   {'location': [115.0, 47.0],\n",
       "    'player': {'id': 3959, 'name': 'Andreas Christensen'},\n",
       "    'position': {'id': 13, 'name': 'Right Center Midfield'},\n",
       "    'teammate': True},\n",
       "   {'location': [103.0, 34.0],\n",
       "    'player': {'id': 5463, 'name': 'Luka Modrić'},\n",
       "    'position': {'id': 13, 'name': 'Right Center Midfield'},\n",
       "    'teammate': False}]}}"
      ]
     },
     "execution_count": 6,
     "metadata": {},
     "output_type": "execute_result"
    }
   ],
   "source": [
    "df[0][0]"
   ]
  },
  {
   "cell_type": "code",
   "execution_count": null,
   "metadata": {},
   "outputs": [],
   "source": []
  }
 ],
 "metadata": {
  "kernelspec": {
   "display_name": "Python 3",
   "language": "python",
   "name": "python3"
  },
  "language_info": {
   "codemirror_mode": {
    "name": "ipython",
    "version": 3
   },
   "file_extension": ".py",
   "mimetype": "text/x-python",
   "name": "python",
   "nbconvert_exporter": "python",
   "pygments_lexer": "ipython3",
   "version": "3.7.8"
  }
 },
 "nbformat": 4,
 "nbformat_minor": 4
}
