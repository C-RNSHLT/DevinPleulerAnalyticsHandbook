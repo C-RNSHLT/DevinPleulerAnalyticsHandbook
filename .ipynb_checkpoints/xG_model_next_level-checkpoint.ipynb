{
 "cells": [
  {
   "cell_type": "markdown",
   "metadata": {},
   "source": [
    "# xG model - Udvikling af den basale xG model\n",
    "\n",
    "Modeller jeg bygger en følgende:\n",
    "- LogisticRegression\n",
    "- Random Forest\n",
    "- Gradient boost\n",
    "\n",
    "Inspiration fra Nick Wan (https://colab.research.google.com/drive/1ZtGuRWRMc1I_V7EJDllLVOtdot_ZOJlx?usp=sharing#scrollTo=cXk8uxmOXR61)"
   ]
  },
  {
   "cell_type": "code",
   "execution_count": null,
   "metadata": {},
   "outputs": [],
   "source": []
  }
 ],
 "metadata": {
  "kernelspec": {
   "display_name": "Python 3",
   "language": "python",
   "name": "python3"
  },
  "language_info": {
   "codemirror_mode": {
    "name": "ipython",
    "version": 3
   },
   "file_extension": ".py",
   "mimetype": "text/x-python",
   "name": "python",
   "nbconvert_exporter": "python",
   "pygments_lexer": "ipython3",
   "version": "3.7.8"
  }
 },
 "nbformat": 4,
 "nbformat_minor": 4
}
